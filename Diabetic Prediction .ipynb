{
 "cells": [
  {
   "cell_type": "code",
   "execution_count": 1,
   "id": "d051efca",
   "metadata": {},
   "outputs": [],
   "source": [
    "#!pip install imblearn\n",
    "#!pip install --user imblearn\n",
    "\n",
    "#for DataFrames,Analysing,cleaning and manipulating datasets\n",
    "import pandas as pd \n",
    "\n",
    "#for multidimensional arrays\n",
    "import numpy as np\n",
    "\n",
    "#for visualizing\n",
    "import matplotlib.pyplot as plt\n",
    "\n",
    "#advance visualization tool\n",
    "import seaborn as sns\n",
    "\n",
    "import warnings \n",
    "warnings.filterwarnings('ignore')"
   ]
  },
  {
   "cell_type": "markdown",
   "id": "e518ecc3",
   "metadata": {},
   "source": [
    "## Import data"
   ]
  },
  {
   "cell_type": "code",
   "execution_count": 2,
   "id": "a466760b",
   "metadata": {},
   "outputs": [
    {
     "data": {
      "text/plain": [
       "(768, 9)"
      ]
     },
     "execution_count": 2,
     "metadata": {},
     "output_type": "execute_result"
    }
   ],
   "source": [
    "df=pd.read_csv(\"diabetes.csv\")\n",
    "\n",
    "#Dimensions of dataset\n",
    "df.shape"
   ]
  },
  {
   "cell_type": "code",
   "execution_count": 3,
   "id": "5a7ee16d",
   "metadata": {},
   "outputs": [
    {
     "name": "stdout",
     "output_type": "stream",
     "text": [
      "   Pregnancies  Glucose  BloodPressure  SkinThickness  Insulin   BMI  \\\n",
      "0            6      148             72             35        0  33.6   \n",
      "1            1       85             66             29        0  26.6   \n",
      "2            8      183             64              0        0  23.3   \n",
      "3            1       89             66             23       94  28.1   \n",
      "4            0      137             40             35      168  43.1   \n",
      "\n",
      "   DiabetesPedigreeFunction  Age  Outcome  \n",
      "0                     0.627   50        1  \n",
      "1                     0.351   31        0  \n",
      "2                     0.672   32        1  \n",
      "3                     0.167   21        0  \n",
      "4                     2.288   33        1  \n"
     ]
    }
   ],
   "source": [
    "#Retrieve the topmost rows\n",
    "print(df.head())"
   ]
  },
  {
   "cell_type": "markdown",
   "id": "ffcd673d",
   "metadata": {},
   "source": [
    "1. **Pregnancies**: No. of times pregnant.\n",
    "2. **Glucose**: Plasma Glucose Concentration(mg/dl).\n",
    "3. **Blood Pressure**: Diastolic Blood Pressure(mmHg).\n",
    "4. **Skin Thickness**:A value used to estimate body fat. Normal Triceps SkinFold Thickness in women is 23mm. Higher thickness       leads to obesity and chances of diabetes increases.\n",
    "5. **Insulin**: 2-Hour Serum Insulin (mu U/ml).\n",
    "6. **BMI**: Body Mass Index (weight in kg/ height in m2).\n",
    "7. **Diabetes Pedigree Function**: It provides information about diabetes history in relatives and genetic relationship of those      relatives with patients. Higher Pedigree Function means patient is more likely to have diabetes.\n",
    "8. **Age**:Age(years).\n",
    "9. **Outcome**: Class Variable (0 or 1) where ‘0’ denotes patient is not having diabetes and ‘1’ denotes patient having    diabetes."
   ]
  },
  {
   "cell_type": "code",
   "execution_count": 4,
   "id": "c66ef3fe",
   "metadata": {
    "scrolled": true
   },
   "outputs": [
    {
     "name": "stdout",
     "output_type": "stream",
     "text": [
      "Outcome\n",
      "0    500\n",
      "1    268\n",
      "dtype: int64\n"
     ]
    }
   ],
   "source": [
    "print(df.groupby('Outcome').size())"
   ]
  },
  {
   "cell_type": "markdown",
   "id": "74c737d4",
   "metadata": {},
   "source": [
    "## Visualization of Target Variable"
   ]
  },
  {
   "cell_type": "code",
   "execution_count": 5,
   "id": "87a15eac",
   "metadata": {},
   "outputs": [
    {
     "data": {
      "text/plain": [
       "array([<AxesSubplot:ylabel='Outcome'>], dtype=object)"
      ]
     },
     "execution_count": 5,
     "metadata": {},
     "output_type": "execute_result"
    },
    {
     "data": {
      "image/png": "[encoded data removed]",
      "text/plain": [
       "<Figure size 648x648 with 1 Axes>"
      ]
     },
     "metadata": {},
     "output_type": "display_data"
    }
   ],
   "source": [
    "import matplotlib.style as style\n",
    "style.available\n",
    "\n",
    "style.use('seaborn-pastel')\n",
    "labels = [\"Healthy\", \"Diabetic\"]\n",
    "df['Outcome'].value_counts().plot(kind='pie',labels=labels, subplots=True,autopct='%1.0f%%', labeldistance=1.2, figsize=(9,9))\n",
    "# sns.countplot(df['Outcome'],label=\"Count\")"
   ]
  },
  {
   "cell_type": "code",
   "execution_count": 6,
   "id": "76b53ecd",
   "metadata": {
    "scrolled": true
   },
   "outputs": [
    {
     "name": "stdout",
     "output_type": "stream",
     "text": [
      "Samples of healthy people:  500\n",
      "Samples of diabetic people:  268\n"
     ]
    },
    {
     "data": {
      "image/png": "[encoded data removed]",
      "text/plain": [
       "<Figure size 576x432 with 1 Axes>"
      ]
     },
     "metadata": {
      "needs_background": "light"
     },
     "output_type": "display_data"
    }
   ],
   "source": [
    "from matplotlib.pyplot import figure, show\n",
    "\n",
    "figure(figsize=(8,6))\n",
    "ax = sns.countplot(x=df['Outcome'], data=df,palette=\"husl\")\n",
    "ax.set_xticklabels([\"Healthy\",\"Diabetic\"])\n",
    "healthy, diabetics = df['Outcome'].value_counts().values\n",
    "\n",
    "print(\"Samples of healthy people: \", healthy)\n",
    "print(\"Samples of diabetic people: \", diabetics)"
   ]
  },
  {
   "cell_type": "markdown",
   "id": "bad226c8",
   "metadata": {},
   "source": [
    "### It's clear that classes are imbalanced so we have to balance them."
   ]
  },
  {
   "cell_type": "code",
   "execution_count": 7,
   "id": "3da95cc9",
   "metadata": {
    "scrolled": true
   },
   "outputs": [],
   "source": [
    "# # Separate majority and minority classes\n",
    "# from sklearn.utils import resample\n",
    "# df_majority = df[df.Outcome==0]\n",
    "# df_minority = df[df.Outcome==1]\n",
    "\n",
    "# # Upsample minority class\n",
    "# df_minority_upsampled = resample(df_minority, \n",
    "#                                  replace=True,     # sample with replacement\n",
    "#                                  n_samples=500,    # to match majority class\n",
    "#                                  random_state=123) # reproducible results\n",
    "\n",
    "# # Combine majority class with upsampled minority class\n",
    "# df_up = pd.concat([df_majority, df_minority_upsampled])\n",
    "\n",
    "# # Display new class counts\n",
    "# df_up.Outcome.value_counts()"
   ]
  },
  {
   "cell_type": "code",
   "execution_count": 8,
   "id": "3a60f138",
   "metadata": {},
   "outputs": [],
   "source": [
    "# # import SMOTE module from imblearn library\n",
    "# # pip install imblearn (if you don't have imblearn in your system)\n",
    "# from imblearn.over_sampling import SMOTE\n",
    "# sm = SMOTE(random_state = 2)\n",
    "# X, Y = sm.fit_sample(X, Y.ravel())"
   ]
  },
  {
   "cell_type": "markdown",
   "id": "149e830e",
   "metadata": {},
   "source": [
    "## Data Preprocessing"
   ]
  },
  {
   "cell_type": "code",
   "execution_count": 9,
   "id": "7f7b8f7c",
   "metadata": {
    "scrolled": true
   },
   "outputs": [
    {
     "name": "stdout",
     "output_type": "stream",
     "text": [
      "<class 'pandas.core.frame.DataFrame'>\n",
      "RangeIndex: 768 entries, 0 to 767\n",
      "Data columns (total 9 columns):\n",
      " #   Column                    Non-Null Count  Dtype  \n",
      "---  ------                    --------------  -----  \n",
      " 0   Pregnancies               768 non-null    int64  \n",
      " 1   Glucose                   768 non-null    int64  \n",
      " 2   BloodPressure             768 non-null    int64  \n",
      " 3   SkinThickness             768 non-null    int64  \n",
      " 4   Insulin                   768 non-null    int64  \n",
      " 5   BMI                       768 non-null    float64\n",
      " 6   DiabetesPedigreeFunction  768 non-null    float64\n",
      " 7   Age                       768 non-null    int64  \n",
      " 8   Outcome                   768 non-null    int64  \n",
      "dtypes: float64(2), int64(7)\n",
      "memory usage: 54.1 KB\n",
      "None\n"
     ]
    }
   ],
   "source": [
    "#Information about columns\n",
    "print(df.info())"
   ]
  },
  {
   "cell_type": "markdown",
   "id": "690e75a6",
   "metadata": {},
   "source": [
    "#### Above analysis shows that All our attributes are NUMERICAL valued(as the data type is int and float) and there are NO NULL values."
   ]
  },
  {
   "cell_type": "code",
   "execution_count": 10,
   "id": "be5ea1d7",
   "metadata": {},
   "outputs": [
    {
     "data": {
      "text/plain": [
       "0"
      ]
     },
     "execution_count": 10,
     "metadata": {},
     "output_type": "execute_result"
    }
   ],
   "source": [
    "#Dupliacte Values\n",
    "df.duplicated().sum()"
   ]
  },
  {
   "cell_type": "code",
   "execution_count": 11,
   "id": "0d542f69",
   "metadata": {},
   "outputs": [
    {
     "data": {
      "text/html": [
       "<div>\n",
       "<style scoped>\n",
       "    .dataframe tbody tr th:only-of-type {\n",
       "        vertical-align: middle;\n",
       "    }\n",
       "\n",
       "    .dataframe tbody tr th {\n",
       "        vertical-align: top;\n",
       "    }\n",
       "\n",
       "    .dataframe thead th {\n",
       "        text-align: right;\n",
       "    }\n",
       "</style>\n",
       "<table border=\"1\" class=\"dataframe\">\n",
       "  <thead>\n",
       "    <tr style=\"text-align: right;\">\n",
       "      <th></th>\n",
       "      <th>count</th>\n",
       "      <th>mean</th>\n",
       "      <th>std</th>\n",
       "      <th>min</th>\n",
       "      <th>25%</th>\n",
       "      <th>50%</th>\n",
       "      <th>75%</th>\n",
       "      <th>max</th>\n",
       "    </tr>\n",
       "  </thead>\n",
       "  <tbody>\n",
       "    <tr>\n",
       "      <th>Pregnancies</th>\n",
       "      <td>768.0</td>\n",
       "      <td>3.845052</td>\n",
       "      <td>3.369578</td>\n",
       "      <td>0.000</td>\n",
       "      <td>1.00000</td>\n",
       "      <td>3.0000</td>\n",
       "      <td>6.00000</td>\n",
       "      <td>17.00</td>\n",
       "    </tr>\n",
       "    <tr>\n",
       "      <th>Glucose</th>\n",
       "      <td>768.0</td>\n",
       "      <td>120.894531</td>\n",
       "      <td>31.972618</td>\n",
       "      <td>0.000</td>\n",
       "      <td>99.00000</td>\n",
       "      <td>117.0000</td>\n",
       "      <td>140.25000</td>\n",
       "      <td>199.00</td>\n",
       "    </tr>\n",
       "    <tr>\n",
       "      <th>BloodPressure</th>\n",
       "      <td>768.0</td>\n",
       "      <td>69.105469</td>\n",
       "      <td>19.355807</td>\n",
       "      <td>0.000</td>\n",
       "      <td>62.00000</td>\n",
       "      <td>72.0000</td>\n",
       "      <td>80.00000</td>\n",
       "      <td>122.00</td>\n",
       "    </tr>\n",
       "    <tr>\n",
       "      <th>SkinThickness</th>\n",
       "      <td>768.0</td>\n",
       "      <td>20.536458</td>\n",
       "      <td>15.952218</td>\n",
       "      <td>0.000</td>\n",
       "      <td>0.00000</td>\n",
       "      <td>23.0000</td>\n",
       "      <td>32.00000</td>\n",
       "      <td>99.00</td>\n",
       "    </tr>\n",
       "    <tr>\n",
       "      <th>Insulin</th>\n",
       "      <td>768.0</td>\n",
       "      <td>79.799479</td>\n",
       "      <td>115.244002</td>\n",
       "      <td>0.000</td>\n",
       "      <td>0.00000</td>\n",
       "      <td>30.5000</td>\n",
       "      <td>127.25000</td>\n",
       "      <td>846.00</td>\n",
       "    </tr>\n",
       "    <tr>\n",
       "      <th>BMI</th>\n",
       "      <td>768.0</td>\n",
       "      <td>31.992578</td>\n",
       "      <td>7.884160</td>\n",
       "      <td>0.000</td>\n",
       "      <td>27.30000</td>\n",
       "      <td>32.0000</td>\n",
       "      <td>36.60000</td>\n",
       "      <td>67.10</td>\n",
       "    </tr>\n",
       "    <tr>\n",
       "      <th>DiabetesPedigreeFunction</th>\n",
       "      <td>768.0</td>\n",
       "      <td>0.471876</td>\n",
       "      <td>0.331329</td>\n",
       "      <td>0.078</td>\n",
       "      <td>0.24375</td>\n",
       "      <td>0.3725</td>\n",
       "      <td>0.62625</td>\n",
       "      <td>2.42</td>\n",
       "    </tr>\n",
       "    <tr>\n",
       "      <th>Age</th>\n",
       "      <td>768.0</td>\n",
       "      <td>33.240885</td>\n",
       "      <td>11.760232</td>\n",
       "      <td>21.000</td>\n",
       "      <td>24.00000</td>\n",
       "      <td>29.0000</td>\n",
       "      <td>41.00000</td>\n",
       "      <td>81.00</td>\n",
       "    </tr>\n",
       "    <tr>\n",
       "      <th>Outcome</th>\n",
       "      <td>768.0</td>\n",
       "      <td>0.348958</td>\n",
       "      <td>0.476951</td>\n",
       "      <td>0.000</td>\n",
       "      <td>0.00000</td>\n",
       "      <td>0.0000</td>\n",
       "      <td>1.00000</td>\n",
       "      <td>1.00</td>\n",
       "    </tr>\n",
       "  </tbody>\n",
       "</table>\n",
       "</div>"
      ],
      "text/plain": [
       "                          count        mean         std     min       25%  \\\n",
       "Pregnancies               768.0    3.845052    3.369578   0.000   1.00000   \n",
       "Glucose                   768.0  120.894531   31.972618   0.000  99.00000   \n",
       "BloodPressure             768.0   69.105469   19.355807   0.000  62.00000   \n",
       "SkinThickness             768.0   20.536458   15.952218   0.000   0.00000   \n",
       "Insulin                   768.0   79.799479  115.244002   0.000   0.00000   \n",
       "BMI                       768.0   31.992578    7.884160   0.000  27.30000   \n",
       "DiabetesPedigreeFunction  768.0    0.471876    0.331329   0.078   0.24375   \n",
       "Age                       768.0   33.240885   11.760232  21.000  24.00000   \n",
       "Outcome                   768.0    0.348958    0.476951   0.000   0.00000   \n",
       "\n",
       "                               50%        75%     max  \n",
       "Pregnancies                 3.0000    6.00000   17.00  \n",
       "Glucose                   117.0000  140.25000  199.00  \n",
       "BloodPressure              72.0000   80.00000  122.00  \n",
       "SkinThickness              23.0000   32.00000   99.00  \n",
       "Insulin                    30.5000  127.25000  846.00  \n",
       "BMI                        32.0000   36.60000   67.10  \n",
       "DiabetesPedigreeFunction    0.3725    0.62625    2.42  \n",
       "Age                        29.0000   41.00000   81.00  \n",
       "Outcome                     0.0000    1.00000    1.00  "
      ]
     },
     "execution_count": 11,
     "metadata": {},
     "output_type": "execute_result"
    }
   ],
   "source": [
    "#statistical summary\n",
    "df.describe().transpose()"
   ]
  },
  {
   "cell_type": "markdown",
   "id": "c6db5b4b",
   "metadata": {},
   "source": [
    "#### It is clear from the \"count\" column that there are **no NULL** and **Empty** Values.\n",
    "#### As features like Insulin, BMI, BloodPressure, Glucose and SkinThickness cannot have \"minimum\" value of 0, meaning that there are Zero values in our dataset which are to be handled."
   ]
  },
  {
   "cell_type": "code",
   "execution_count": 12,
   "id": "4f7360ed",
   "metadata": {},
   "outputs": [
    {
     "data": {
      "image/png": "[encoded data removed]",
      "text/plain": [
       "<Figure size 1080x864 with 8 Axes>"
      ]
     },
     "metadata": {
      "needs_background": "light"
     },
     "output_type": "display_data"
    }
   ],
   "source": [
    "fig, axs = plt.subplots(4, 2, figsize=(15,12))\n",
    "axs = axs.flatten()\n",
    "sns.distplot(df['Pregnancies'],rug=True,color='#38b000',ax=axs[0])\n",
    "sns.distplot(df['Glucose'],rug=True,color='#FF9933',ax=axs[1])\n",
    "sns.distplot(df['BloodPressure'],rug=True,color='#522500',ax=axs[2])\n",
    "sns.distplot(df['SkinThickness'],rug=True,color='#66b3ff',ax=axs[3])\n",
    "sns.distplot(df['Insulin'],rug=True,color='#FF6699',ax=axs[4])\n",
    "sns.distplot(df['BMI'],color='#e76f51',rug=True,ax=axs[5])\n",
    "sns.distplot(df['DiabetesPedigreeFunction'],color='#03045e',rug=True,ax=axs[6])\n",
    "sns.distplot(df['Age'],rug=True,color='#333533',ax=axs[7])\n",
    "plt.show()"
   ]
  },
  {
   "cell_type": "markdown",
   "id": "46e3e27f",
   "metadata": {},
   "source": [
    "#### It is clear from the above graphs that Pregnancies, Insulin, DiabetesPedigreeFunction and Age are Right Skewed and Also have quite huge number of Zero valued columns in Insulin and SkinThickness."
   ]
  },
  {
   "cell_type": "code",
   "execution_count": 13,
   "id": "cd882d61",
   "metadata": {
    "scrolled": true
   },
   "outputs": [
    {
     "name": "stdout",
     "output_type": "stream",
     "text": [
      "Count of zeros in column  Pregnancies  is :  111\n",
      "Count of zeros in column  Glucose  is :  5\n",
      "Count of zeros in column  BloodPressure  is :  35\n",
      "Count of zeros in column  SkinThickness  is :  227\n",
      "Count of zeros in column  Insulin  is :  374\n",
      "Count of zeros in column  BMI  is :  11\n",
      "Count of zeros in column  DiabetesPedigreeFunction  is :  0\n",
      "Count of zeros in column  Age  is :  0\n",
      "Count of zeros in column  Outcome  is :  500\n"
     ]
    }
   ],
   "source": [
    "#Count of columns with value O\n",
    "for column_name in df.columns:\n",
    "    column = df[column_name]\n",
    "    # Get the count of Zeros in column \n",
    "    count = (column == 0).sum()\n",
    "    print('Count of zeros in column ', column_name, ' is : ', count)"
   ]
  },
  {
   "cell_type": "markdown",
   "id": "de766ac9",
   "metadata": {},
   "source": [
    "#### Since the database consists of women of atleast 21 years so it is unlikely that everyone would have been pregnant so ignoring the zero values in pregnancies column.\n",
    "#### As the Insulin and SkinThickness values with zero are pretty high and removing them would lead huge data loss so it is better to replace them with a value.\n",
    "#### As blood pressure & glucose are critical for determing diabeties it should not be invalid  and also since their zero values are very small so it is better to remove them."
   ]
  },
  {
   "cell_type": "markdown",
   "id": "80231dfd",
   "metadata": {},
   "source": [
    "### Replacing Zeroes with median value"
   ]
  },
  {
   "cell_type": "code",
   "execution_count": 14,
   "id": "0f13d779",
   "metadata": {},
   "outputs": [],
   "source": [
    "df['SkinThickness']=df['SkinThickness'].replace(0,df['SkinThickness'].median())\n",
    "\n",
    "df['Insulin']=df['Insulin'].replace(0,df['Insulin'].median())\n",
    "\n",
    "df = df[(df['BloodPressure'] != 0) & (df['BMI'] != 0) & (df['Glucose'] != 0)]"
   ]
  },
  {
   "cell_type": "code",
   "execution_count": 15,
   "id": "11bf0c7d",
   "metadata": {
    "scrolled": true
   },
   "outputs": [
    {
     "name": "stdout",
     "output_type": "stream",
     "text": [
      "Count of zeros in column  Pregnancies  is :  99\n",
      "Count of zeros in column  Glucose  is :  0\n",
      "Count of zeros in column  BloodPressure  is :  0\n",
      "Count of zeros in column  SkinThickness  is :  0\n",
      "Count of zeros in column  Insulin  is :  0\n",
      "Count of zeros in column  BMI  is :  0\n",
      "Count of zeros in column  DiabetesPedigreeFunction  is :  0\n",
      "Count of zeros in column  Age  is :  0\n",
      "Count of zeros in column  Outcome  is :  475\n"
     ]
    }
   ],
   "source": [
    "#Columns with value O\n",
    "for column_name in df.columns:\n",
    "    column = df[column_name]\n",
    "    # Get the count of Zeros in column \n",
    "    count = (column == 0).sum()\n",
    "    print('Count of zeros in column ', column_name, ' is : ', count)"
   ]
  },
  {
   "cell_type": "code",
   "execution_count": 16,
   "id": "63decb98",
   "metadata": {
    "scrolled": true
   },
   "outputs": [
    {
     "data": {
      "text/html": [
       "<div>\n",
       "<style scoped>\n",
       "    .dataframe tbody tr th:only-of-type {\n",
       "        vertical-align: middle;\n",
       "    }\n",
       "\n",
       "    .dataframe tbody tr th {\n",
       "        vertical-align: top;\n",
       "    }\n",
       "\n",
       "    .dataframe thead th {\n",
       "        text-align: right;\n",
       "    }\n",
       "</style>\n",
       "<table border=\"1\" class=\"dataframe\">\n",
       "  <thead>\n",
       "    <tr style=\"text-align: right;\">\n",
       "      <th></th>\n",
       "      <th>count</th>\n",
       "      <th>mean</th>\n",
       "      <th>std</th>\n",
       "      <th>min</th>\n",
       "      <th>25%</th>\n",
       "      <th>50%</th>\n",
       "      <th>75%</th>\n",
       "      <th>max</th>\n",
       "    </tr>\n",
       "  </thead>\n",
       "  <tbody>\n",
       "    <tr>\n",
       "      <th>Pregnancies</th>\n",
       "      <td>724.0</td>\n",
       "      <td>3.866022</td>\n",
       "      <td>3.362803</td>\n",
       "      <td>0.000</td>\n",
       "      <td>1.000</td>\n",
       "      <td>3.000</td>\n",
       "      <td>6.0000</td>\n",
       "      <td>17.00</td>\n",
       "    </tr>\n",
       "    <tr>\n",
       "      <th>Glucose</th>\n",
       "      <td>724.0</td>\n",
       "      <td>121.882597</td>\n",
       "      <td>30.750030</td>\n",
       "      <td>44.000</td>\n",
       "      <td>99.750</td>\n",
       "      <td>117.000</td>\n",
       "      <td>142.0000</td>\n",
       "      <td>199.00</td>\n",
       "    </tr>\n",
       "    <tr>\n",
       "      <th>BloodPressure</th>\n",
       "      <td>724.0</td>\n",
       "      <td>72.400552</td>\n",
       "      <td>12.379870</td>\n",
       "      <td>24.000</td>\n",
       "      <td>64.000</td>\n",
       "      <td>72.000</td>\n",
       "      <td>80.0000</td>\n",
       "      <td>122.00</td>\n",
       "    </tr>\n",
       "    <tr>\n",
       "      <th>SkinThickness</th>\n",
       "      <td>724.0</td>\n",
       "      <td>27.542818</td>\n",
       "      <td>9.423322</td>\n",
       "      <td>7.000</td>\n",
       "      <td>23.000</td>\n",
       "      <td>24.000</td>\n",
       "      <td>33.0000</td>\n",
       "      <td>99.00</td>\n",
       "    </tr>\n",
       "    <tr>\n",
       "      <th>Insulin</th>\n",
       "      <td>724.0</td>\n",
       "      <td>98.480663</td>\n",
       "      <td>107.505204</td>\n",
       "      <td>14.000</td>\n",
       "      <td>30.500</td>\n",
       "      <td>48.000</td>\n",
       "      <td>130.5000</td>\n",
       "      <td>846.00</td>\n",
       "    </tr>\n",
       "    <tr>\n",
       "      <th>BMI</th>\n",
       "      <td>724.0</td>\n",
       "      <td>32.467127</td>\n",
       "      <td>6.888941</td>\n",
       "      <td>18.200</td>\n",
       "      <td>27.500</td>\n",
       "      <td>32.400</td>\n",
       "      <td>36.6000</td>\n",
       "      <td>67.10</td>\n",
       "    </tr>\n",
       "    <tr>\n",
       "      <th>DiabetesPedigreeFunction</th>\n",
       "      <td>724.0</td>\n",
       "      <td>0.474765</td>\n",
       "      <td>0.332315</td>\n",
       "      <td>0.078</td>\n",
       "      <td>0.245</td>\n",
       "      <td>0.379</td>\n",
       "      <td>0.6275</td>\n",
       "      <td>2.42</td>\n",
       "    </tr>\n",
       "    <tr>\n",
       "      <th>Age</th>\n",
       "      <td>724.0</td>\n",
       "      <td>33.350829</td>\n",
       "      <td>11.765393</td>\n",
       "      <td>21.000</td>\n",
       "      <td>24.000</td>\n",
       "      <td>29.000</td>\n",
       "      <td>41.0000</td>\n",
       "      <td>81.00</td>\n",
       "    </tr>\n",
       "    <tr>\n",
       "      <th>Outcome</th>\n",
       "      <td>724.0</td>\n",
       "      <td>0.343923</td>\n",
       "      <td>0.475344</td>\n",
       "      <td>0.000</td>\n",
       "      <td>0.000</td>\n",
       "      <td>0.000</td>\n",
       "      <td>1.0000</td>\n",
       "      <td>1.00</td>\n",
       "    </tr>\n",
       "  </tbody>\n",
       "</table>\n",
       "</div>"
      ],
      "text/plain": [
       "                          count        mean         std     min     25%  \\\n",
       "Pregnancies               724.0    3.866022    3.362803   0.000   1.000   \n",
       "Glucose                   724.0  121.882597   30.750030  44.000  99.750   \n",
       "BloodPressure             724.0   72.400552   12.379870  24.000  64.000   \n",
       "SkinThickness             724.0   27.542818    9.423322   7.000  23.000   \n",
       "Insulin                   724.0   98.480663  107.505204  14.000  30.500   \n",
       "BMI                       724.0   32.467127    6.888941  18.200  27.500   \n",
       "DiabetesPedigreeFunction  724.0    0.474765    0.332315   0.078   0.245   \n",
       "Age                       724.0   33.350829   11.765393  21.000  24.000   \n",
       "Outcome                   724.0    0.343923    0.475344   0.000   0.000   \n",
       "\n",
       "                              50%       75%     max  \n",
       "Pregnancies                 3.000    6.0000   17.00  \n",
       "Glucose                   117.000  142.0000  199.00  \n",
       "BloodPressure              72.000   80.0000  122.00  \n",
       "SkinThickness              24.000   33.0000   99.00  \n",
       "Insulin                    48.000  130.5000  846.00  \n",
       "BMI                        32.400   36.6000   67.10  \n",
       "DiabetesPedigreeFunction    0.379    0.6275    2.42  \n",
       "Age                        29.000   41.0000   81.00  \n",
       "Outcome                     0.000    1.0000    1.00  "
      ]
     },
     "execution_count": 16,
     "metadata": {},
     "output_type": "execute_result"
    }
   ],
   "source": [
    "df.describe().transpose()"
   ]
  },
  {
   "cell_type": "markdown",
   "id": "e414602e",
   "metadata": {},
   "source": [
    "### Min values are sorted out.\n",
    "### If we observe the max values of Insulin, BMI, SkinThickness,etc  values are impossible to have indicating that they are ought to be outliers.\n",
    "## Outlier Detection:"
   ]
  },
  {
   "cell_type": "code",
   "execution_count": 17,
   "id": "9a290d83",
   "metadata": {},
   "outputs": [
    {
     "data": {
      "image/png": "[encoded data removed]",
      "text/plain": [
       "<Figure size 432x288 with 1 Axes>"
      ]
     },
     "metadata": {
      "needs_background": "light"
     },
     "output_type": "display_data"
    },
    {
     "data": {
      "image/png": "[encoded data removed]",
      "text/plain": [
       "<Figure size 432x288 with 1 Axes>"
      ]
     },
     "metadata": {
      "needs_background": "light"
     },
     "output_type": "display_data"
    },
    {
     "data": {
      "image/png": "[encoded data removed]",
      "text/plain": [
       "<Figure size 432x288 with 1 Axes>"
      ]
     },
     "metadata": {
      "needs_background": "light"
     },
     "output_type": "display_data"
    },
    {
     "data": {
      "image/png": "[encoded data removed]",
      "text/plain": [
       "<Figure size 432x288 with 1 Axes>"
      ]
     },
     "metadata": {
      "needs_background": "light"
     },
     "output_type": "display_data"
    },
    {
     "data": {
      "image/png": "[encoded data removed]",
      "text/plain": [
       "<Figure size 432x288 with 1 Axes>"
      ]
     },
     "metadata": {
      "needs_background": "light"
     },
     "output_type": "display_data"
    },
    {
     "data": {
      "image/png": "[encoded data removed]",
      "text/plain": [
       "<Figure size 432x288 with 1 Axes>"
      ]
     },
     "metadata": {
      "needs_background": "light"
     },
     "output_type": "display_data"
    },
    {
     "data": {
      "image/png": "[encoded data removed]",
      "text/plain": [
       "<Figure size 432x288 with 1 Axes>"
      ]
     },
     "metadata": {
      "needs_background": "light"
     },
     "output_type": "display_data"
    },
    {
     "data": {
      "image/png": "[encoded data removed]",
      "text/plain": [
       "<Figure size 432x288 with 1 Axes>"
      ]
     },
     "metadata": {
      "needs_background": "light"
     },
     "output_type": "display_data"
    }
   ],
   "source": [
    "# use box plot for features till DiabetesPedigreeFunction\n",
    "features = ['Pregnancies', 'Glucose', 'BloodPressure', 'SkinThickness', 'Insulin', 'BMI', 'DiabetesPedigreeFunction','Age']\n",
    "\n",
    "for feature in features:\n",
    "    sns.boxplot(x=feature, data=df)\n",
    "    plt.show()"
   ]
  },
  {
   "cell_type": "markdown",
   "id": "747d3f23",
   "metadata": {},
   "source": [
    "### Z- Score:"
   ]
  },
  {
   "cell_type": "code",
   "execution_count": 18,
   "id": "512e179d",
   "metadata": {
    "scrolled": true
   },
   "outputs": [
    {
     "name": "stdout",
     "output_type": "stream",
     "text": [
      "[[0.63502182 0.84993279 0.03237751 ... 0.45842062 1.41607523 1.38116998]\n",
      " [0.85286102 1.20026207 0.51737031 ... 0.37269083 0.19994691 0.72402384]\n",
      " [1.23017496 1.98892994 0.67903458 ... 0.59392792 0.11489311 1.38116998]\n",
      " ...\n",
      " [0.33744525 0.02872215 0.03237751 ... 0.69188581 0.28500071 0.72402384]\n",
      " [0.85286102 0.13399173 1.00236311 ... 0.37871338 1.16091384 1.38116998]\n",
      " [0.85286102 0.93991986 0.19404178 ... 0.48109667 0.88037728 0.72402384]]\n"
     ]
    }
   ],
   "source": [
    "from scipy import stats\n",
    "import numpy as np\n",
    "z = np.abs(stats.zscore(df))\n",
    "print(z)"
   ]
  },
  {
   "cell_type": "code",
   "execution_count": 19,
   "id": "345757cd",
   "metadata": {},
   "outputs": [
    {
     "name": "stdout",
     "output_type": "stream",
     "text": [
      "(array([  4,   4,   7,   7,  10,  10,  11,  11,  11,  13,  15,  19,  21,\n",
      "        25,  25,  27,  33,  36,  36,  40,  42,  49,  50,  52,  53,  53,\n",
      "        54,  57,  67,  73,  76,  76,  78,  78,  80,  84,  85,  91,  91,\n",
      "        92,  98, 103, 107, 112, 112, 115, 117, 117, 121, 131, 137, 138,\n",
      "       139, 141, 143, 144, 145, 145, 146, 150, 167, 167, 174, 175, 175,\n",
      "       176, 176, 187, 194, 194, 195, 197, 199, 200, 203, 206, 208, 209,\n",
      "       210, 215, 215, 215, 218, 226, 230, 232, 232, 234, 234, 235, 241,\n",
      "       241, 245, 245, 246, 246, 247, 249, 257, 258, 259, 262, 270, 276,\n",
      "       278, 280, 282, 283, 286, 286, 291, 302, 302, 306, 313, 315, 317,\n",
      "       324, 326, 335, 336, 337, 337, 338, 339, 339, 340, 346, 347, 347,\n",
      "       347, 351, 351, 351, 354, 355, 358, 359, 363, 364, 368, 371, 375,\n",
      "       384, 384, 385, 385, 391, 394, 401, 408, 409, 411, 413, 413, 418,\n",
      "       418, 418, 427, 428, 430, 431, 436, 446, 450, 451, 456, 457, 457,\n",
      "       457, 459, 459, 463, 464, 467, 477, 478, 480, 486, 487, 487, 487,\n",
      "       493, 499, 500, 502, 502, 504, 510, 511, 514, 514, 517, 522, 523,\n",
      "       524, 526, 539, 540, 540, 541, 544, 544, 544, 547, 547, 549, 553,\n",
      "       554, 554, 555, 557, 559, 561, 563, 568, 574, 576, 580, 582, 583,\n",
      "       586, 596, 605, 608, 615, 617, 617, 618, 618, 619, 621, 621, 622,\n",
      "       626, 632, 633, 633, 634, 635, 640, 641, 650, 650, 652, 654, 663,\n",
      "       663, 666, 671, 671, 696, 697, 700, 700, 701, 702, 703, 704, 706,\n",
      "       709, 715, 715, 719, 719], dtype=int64), array([2, 6, 1, 4, 6, 7, 1, 4, 7, 3, 2, 1, 0, 0, 7, 7, 0, 3, 6, 2, 6, 7,\n",
      "       4, 1, 3, 5, 6, 1, 0, 2, 2, 5, 0, 3, 0, 5, 7, 3, 5, 6, 2, 4, 7, 3,\n",
      "       5, 7, 2, 5, 7, 4, 1, 6, 7, 3, 6, 4, 1, 5, 5, 0, 2, 5, 1, 4, 7, 2,\n",
      "       6, 4, 1, 7, 2, 1, 3, 7, 0, 6, 4, 7, 7, 1, 4, 6, 4, 5, 6, 1, 6, 4,\n",
      "       5, 4, 0, 3, 1, 4, 0, 6, 1, 7, 3, 0, 3, 7, 4, 6, 7, 4, 0, 7, 2, 5,\n",
      "       6, 1, 7, 0, 6, 0, 5, 7, 2, 0, 1, 1, 4, 7, 2, 7, 7, 2, 3, 4, 6, 0,\n",
      "       4, 7, 5, 2, 3, 6, 2, 7, 4, 6, 1, 1, 6, 3, 4, 4, 5, 1, 3, 0, 5, 1,\n",
      "       2, 3, 5, 6, 0, 7, 3, 7, 2, 7, 7, 4, 4, 5, 6, 7, 1, 7, 6, 7, 1, 7,\n",
      "       0, 7, 0, 3, 4, 7, 5, 3, 6, 1, 7, 3, 1, 1, 1, 2, 7, 7, 0, 0, 1, 4,\n",
      "       2, 3, 2, 1, 3, 7, 0, 7, 4, 6, 0, 5, 3, 6, 1, 2, 2, 6, 4, 0, 6, 6,\n",
      "       6, 3, 0, 4, 0, 4, 3, 6, 0, 2, 6, 1, 6, 2, 7, 2, 2, 5, 7, 1, 1, 5,\n",
      "       0, 2, 3, 4, 2, 4, 4, 1, 4, 0, 2, 0, 6, 0, 5, 5, 1, 6, 4, 1, 7, 3,\n",
      "       7], dtype=int64))\n"
     ]
    }
   ],
   "source": [
    "threshold = 2\n",
    "print(np.where(z > 2))"
   ]
  },
  {
   "cell_type": "code",
   "execution_count": 20,
   "id": "ece45c43",
   "metadata": {
    "scrolled": true
   },
   "outputs": [
    {
     "name": "stdout",
     "output_type": "stream",
     "text": [
      "2.6190057667897855\n"
     ]
    }
   ],
   "source": [
    "print(z[4][2])"
   ]
  },
  {
   "cell_type": "code",
   "execution_count": 21,
   "id": "66e91b24",
   "metadata": {},
   "outputs": [],
   "source": [
    "df = df[(z < 2).all(axis=1)]"
   ]
  },
  {
   "cell_type": "code",
   "execution_count": 22,
   "id": "bdd29d41",
   "metadata": {
    "scrolled": true
   },
   "outputs": [
    {
     "data": {
      "text/html": [
       "<div>\n",
       "<style scoped>\n",
       "    .dataframe tbody tr th:only-of-type {\n",
       "        vertical-align: middle;\n",
       "    }\n",
       "\n",
       "    .dataframe tbody tr th {\n",
       "        vertical-align: top;\n",
       "    }\n",
       "\n",
       "    .dataframe thead th {\n",
       "        text-align: right;\n",
       "    }\n",
       "</style>\n",
       "<table border=\"1\" class=\"dataframe\">\n",
       "  <thead>\n",
       "    <tr style=\"text-align: right;\">\n",
       "      <th></th>\n",
       "      <th>count</th>\n",
       "      <th>mean</th>\n",
       "      <th>std</th>\n",
       "      <th>min</th>\n",
       "      <th>25%</th>\n",
       "      <th>50%</th>\n",
       "      <th>75%</th>\n",
       "      <th>max</th>\n",
       "    </tr>\n",
       "  </thead>\n",
       "  <tbody>\n",
       "    <tr>\n",
       "      <th>Pregnancies</th>\n",
       "      <td>519.0</td>\n",
       "      <td>3.362235</td>\n",
       "      <td>2.803025</td>\n",
       "      <td>0.000</td>\n",
       "      <td>1.0000</td>\n",
       "      <td>3.000</td>\n",
       "      <td>5.0000</td>\n",
       "      <td>10.000</td>\n",
       "    </tr>\n",
       "    <tr>\n",
       "      <th>Glucose</th>\n",
       "      <td>519.0</td>\n",
       "      <td>115.766859</td>\n",
       "      <td>25.699285</td>\n",
       "      <td>61.000</td>\n",
       "      <td>97.0000</td>\n",
       "      <td>112.000</td>\n",
       "      <td>129.5000</td>\n",
       "      <td>183.000</td>\n",
       "    </tr>\n",
       "    <tr>\n",
       "      <th>BloodPressure</th>\n",
       "      <td>519.0</td>\n",
       "      <td>71.005780</td>\n",
       "      <td>10.433924</td>\n",
       "      <td>48.000</td>\n",
       "      <td>64.0000</td>\n",
       "      <td>70.000</td>\n",
       "      <td>78.0000</td>\n",
       "      <td>96.000</td>\n",
       "    </tr>\n",
       "    <tr>\n",
       "      <th>SkinThickness</th>\n",
       "      <td>519.0</td>\n",
       "      <td>26.269750</td>\n",
       "      <td>7.917313</td>\n",
       "      <td>10.000</td>\n",
       "      <td>23.0000</td>\n",
       "      <td>23.000</td>\n",
       "      <td>31.0000</td>\n",
       "      <td>46.000</td>\n",
       "    </tr>\n",
       "    <tr>\n",
       "      <th>Insulin</th>\n",
       "      <td>519.0</td>\n",
       "      <td>77.371869</td>\n",
       "      <td>62.749144</td>\n",
       "      <td>15.000</td>\n",
       "      <td>30.5000</td>\n",
       "      <td>40.000</td>\n",
       "      <td>114.5000</td>\n",
       "      <td>310.000</td>\n",
       "    </tr>\n",
       "    <tr>\n",
       "      <th>BMI</th>\n",
       "      <td>519.0</td>\n",
       "      <td>31.590173</td>\n",
       "      <td>5.991252</td>\n",
       "      <td>19.100</td>\n",
       "      <td>27.2000</td>\n",
       "      <td>31.600</td>\n",
       "      <td>35.4000</td>\n",
       "      <td>46.100</td>\n",
       "    </tr>\n",
       "    <tr>\n",
       "      <th>DiabetesPedigreeFunction</th>\n",
       "      <td>519.0</td>\n",
       "      <td>0.413545</td>\n",
       "      <td>0.230948</td>\n",
       "      <td>0.078</td>\n",
       "      <td>0.2375</td>\n",
       "      <td>0.349</td>\n",
       "      <td>0.5595</td>\n",
       "      <td>1.136</td>\n",
       "    </tr>\n",
       "    <tr>\n",
       "      <th>Age</th>\n",
       "      <td>519.0</td>\n",
       "      <td>30.410405</td>\n",
       "      <td>8.948327</td>\n",
       "      <td>21.000</td>\n",
       "      <td>23.0000</td>\n",
       "      <td>27.000</td>\n",
       "      <td>37.0000</td>\n",
       "      <td>56.000</td>\n",
       "    </tr>\n",
       "    <tr>\n",
       "      <th>Outcome</th>\n",
       "      <td>519.0</td>\n",
       "      <td>0.279383</td>\n",
       "      <td>0.449129</td>\n",
       "      <td>0.000</td>\n",
       "      <td>0.0000</td>\n",
       "      <td>0.000</td>\n",
       "      <td>1.0000</td>\n",
       "      <td>1.000</td>\n",
       "    </tr>\n",
       "  </tbody>\n",
       "</table>\n",
       "</div>"
      ],
      "text/plain": [
       "                          count        mean        std     min      25%  \\\n",
       "Pregnancies               519.0    3.362235   2.803025   0.000   1.0000   \n",
       "Glucose                   519.0  115.766859  25.699285  61.000  97.0000   \n",
       "BloodPressure             519.0   71.005780  10.433924  48.000  64.0000   \n",
       "SkinThickness             519.0   26.269750   7.917313  10.000  23.0000   \n",
       "Insulin                   519.0   77.371869  62.749144  15.000  30.5000   \n",
       "BMI                       519.0   31.590173   5.991252  19.100  27.2000   \n",
       "DiabetesPedigreeFunction  519.0    0.413545   0.230948   0.078   0.2375   \n",
       "Age                       519.0   30.410405   8.948327  21.000  23.0000   \n",
       "Outcome                   519.0    0.279383   0.449129   0.000   0.0000   \n",
       "\n",
       "                              50%       75%      max  \n",
       "Pregnancies                 3.000    5.0000   10.000  \n",
       "Glucose                   112.000  129.5000  183.000  \n",
       "BloodPressure              70.000   78.0000   96.000  \n",
       "SkinThickness              23.000   31.0000   46.000  \n",
       "Insulin                    40.000  114.5000  310.000  \n",
       "BMI                        31.600   35.4000   46.100  \n",
       "DiabetesPedigreeFunction    0.349    0.5595    1.136  \n",
       "Age                        27.000   37.0000   56.000  \n",
       "Outcome                     0.000    1.0000    1.000  "
      ]
     },
     "execution_count": 22,
     "metadata": {},
     "output_type": "execute_result"
    }
   ],
   "source": [
    "df.describe().transpose()"
   ]
  },
  {
   "cell_type": "markdown",
   "id": "8f993f2f",
   "metadata": {},
   "source": [
    "### Even after Z-score corrections, we seem to have outliers so performing IQR score method to remove them."
   ]
  },
  {
   "cell_type": "code",
   "execution_count": 23,
   "id": "ffa12cc7",
   "metadata": {},
   "outputs": [
    {
     "name": "stdout",
     "output_type": "stream",
     "text": [
      "Pregnancies                  4.000\n",
      "Glucose                     32.500\n",
      "BloodPressure               14.000\n",
      "SkinThickness                8.000\n",
      "Insulin                     84.000\n",
      "BMI                          8.200\n",
      "DiabetesPedigreeFunction     0.322\n",
      "Age                         14.000\n",
      "Outcome                      1.000\n",
      "dtype: float64\n"
     ]
    }
   ],
   "source": [
    "Q1 = df.quantile(0.25)\n",
    "Q3 = df.quantile(0.75)\n",
    "IQR = Q3 - Q1\n",
    "print(IQR)"
   ]
  },
  {
   "cell_type": "code",
   "execution_count": 24,
   "id": "4b3dadc7",
   "metadata": {},
   "outputs": [],
   "source": [
    "#print(df < (Q1 - 1.5 * IQR)) |(df > (Q3 + 1.5 * IQR))"
   ]
  },
  {
   "cell_type": "code",
   "execution_count": 25,
   "id": "16cf0618",
   "metadata": {
    "scrolled": true
   },
   "outputs": [
    {
     "data": {
      "text/plain": [
       "(475, 9)"
      ]
     },
     "execution_count": 25,
     "metadata": {},
     "output_type": "execute_result"
    }
   ],
   "source": [
    "#To filter out the outliers\n",
    "df = df[~((df < (Q1 - 1.5 * IQR)) |(df > (Q3 + 1.5 * IQR))).any(axis=1)]\n",
    "df.shape"
   ]
  },
  {
   "cell_type": "code",
   "execution_count": 26,
   "id": "d0f50c2b",
   "metadata": {
    "scrolled": false
   },
   "outputs": [
    {
     "data": {
      "text/html": [
       "<div>\n",
       "<style scoped>\n",
       "    .dataframe tbody tr th:only-of-type {\n",
       "        vertical-align: middle;\n",
       "    }\n",
       "\n",
       "    .dataframe tbody tr th {\n",
       "        vertical-align: top;\n",
       "    }\n",
       "\n",
       "    .dataframe thead th {\n",
       "        text-align: right;\n",
       "    }\n",
       "</style>\n",
       "<table border=\"1\" class=\"dataframe\">\n",
       "  <thead>\n",
       "    <tr style=\"text-align: right;\">\n",
       "      <th></th>\n",
       "      <th>count</th>\n",
       "      <th>mean</th>\n",
       "      <th>std</th>\n",
       "      <th>min</th>\n",
       "      <th>25%</th>\n",
       "      <th>50%</th>\n",
       "      <th>75%</th>\n",
       "      <th>max</th>\n",
       "    </tr>\n",
       "  </thead>\n",
       "  <tbody>\n",
       "    <tr>\n",
       "      <th>Pregnancies</th>\n",
       "      <td>475.0</td>\n",
       "      <td>3.402105</td>\n",
       "      <td>2.759027</td>\n",
       "      <td>0.000</td>\n",
       "      <td>1.000</td>\n",
       "      <td>3.00</td>\n",
       "      <td>5.000</td>\n",
       "      <td>10.000</td>\n",
       "    </tr>\n",
       "    <tr>\n",
       "      <th>Glucose</th>\n",
       "      <td>475.0</td>\n",
       "      <td>114.065263</td>\n",
       "      <td>24.410820</td>\n",
       "      <td>61.000</td>\n",
       "      <td>96.000</td>\n",
       "      <td>111.00</td>\n",
       "      <td>128.000</td>\n",
       "      <td>178.000</td>\n",
       "    </tr>\n",
       "    <tr>\n",
       "      <th>BloodPressure</th>\n",
       "      <td>475.0</td>\n",
       "      <td>70.997895</td>\n",
       "      <td>10.207654</td>\n",
       "      <td>48.000</td>\n",
       "      <td>64.000</td>\n",
       "      <td>70.00</td>\n",
       "      <td>78.000</td>\n",
       "      <td>96.000</td>\n",
       "    </tr>\n",
       "    <tr>\n",
       "      <th>SkinThickness</th>\n",
       "      <td>475.0</td>\n",
       "      <td>25.766316</td>\n",
       "      <td>7.195442</td>\n",
       "      <td>11.000</td>\n",
       "      <td>23.000</td>\n",
       "      <td>23.00</td>\n",
       "      <td>30.000</td>\n",
       "      <td>43.000</td>\n",
       "    </tr>\n",
       "    <tr>\n",
       "      <th>Insulin</th>\n",
       "      <td>475.0</td>\n",
       "      <td>71.477895</td>\n",
       "      <td>55.087886</td>\n",
       "      <td>15.000</td>\n",
       "      <td>30.500</td>\n",
       "      <td>30.50</td>\n",
       "      <td>105.000</td>\n",
       "      <td>235.000</td>\n",
       "    </tr>\n",
       "    <tr>\n",
       "      <th>BMI</th>\n",
       "      <td>475.0</td>\n",
       "      <td>31.277053</td>\n",
       "      <td>5.889832</td>\n",
       "      <td>19.100</td>\n",
       "      <td>26.850</td>\n",
       "      <td>31.20</td>\n",
       "      <td>35.000</td>\n",
       "      <td>46.100</td>\n",
       "    </tr>\n",
       "    <tr>\n",
       "      <th>DiabetesPedigreeFunction</th>\n",
       "      <td>475.0</td>\n",
       "      <td>0.399747</td>\n",
       "      <td>0.218149</td>\n",
       "      <td>0.078</td>\n",
       "      <td>0.235</td>\n",
       "      <td>0.34</td>\n",
       "      <td>0.542</td>\n",
       "      <td>0.997</td>\n",
       "    </tr>\n",
       "    <tr>\n",
       "      <th>Age</th>\n",
       "      <td>475.0</td>\n",
       "      <td>30.562105</td>\n",
       "      <td>9.049666</td>\n",
       "      <td>21.000</td>\n",
       "      <td>23.000</td>\n",
       "      <td>28.00</td>\n",
       "      <td>37.000</td>\n",
       "      <td>56.000</td>\n",
       "    </tr>\n",
       "    <tr>\n",
       "      <th>Outcome</th>\n",
       "      <td>475.0</td>\n",
       "      <td>0.263158</td>\n",
       "      <td>0.440812</td>\n",
       "      <td>0.000</td>\n",
       "      <td>0.000</td>\n",
       "      <td>0.00</td>\n",
       "      <td>1.000</td>\n",
       "      <td>1.000</td>\n",
       "    </tr>\n",
       "  </tbody>\n",
       "</table>\n",
       "</div>"
      ],
      "text/plain": [
       "                          count        mean        std     min     25%  \\\n",
       "Pregnancies               475.0    3.402105   2.759027   0.000   1.000   \n",
       "Glucose                   475.0  114.065263  24.410820  61.000  96.000   \n",
       "BloodPressure             475.0   70.997895  10.207654  48.000  64.000   \n",
       "SkinThickness             475.0   25.766316   7.195442  11.000  23.000   \n",
       "Insulin                   475.0   71.477895  55.087886  15.000  30.500   \n",
       "BMI                       475.0   31.277053   5.889832  19.100  26.850   \n",
       "DiabetesPedigreeFunction  475.0    0.399747   0.218149   0.078   0.235   \n",
       "Age                       475.0   30.562105   9.049666  21.000  23.000   \n",
       "Outcome                   475.0    0.263158   0.440812   0.000   0.000   \n",
       "\n",
       "                             50%      75%      max  \n",
       "Pregnancies                 3.00    5.000   10.000  \n",
       "Glucose                   111.00  128.000  178.000  \n",
       "BloodPressure              70.00   78.000   96.000  \n",
       "SkinThickness              23.00   30.000   43.000  \n",
       "Insulin                    30.50  105.000  235.000  \n",
       "BMI                        31.20   35.000   46.100  \n",
       "DiabetesPedigreeFunction    0.34    0.542    0.997  \n",
       "Age                        28.00   37.000   56.000  \n",
       "Outcome                     0.00    1.000    1.000  "
      ]
     },
     "execution_count": 26,
     "metadata": {},
     "output_type": "execute_result"
    }
   ],
   "source": [
    "df.describe().transpose()"
   ]
  },
  {
   "cell_type": "code",
   "execution_count": 27,
   "id": "5b31bf71",
   "metadata": {
    "scrolled": true
   },
   "outputs": [
    {
     "data": {
      "text/html": [
       "<div>\n",
       "<style scoped>\n",
       "    .dataframe tbody tr th:only-of-type {\n",
       "        vertical-align: middle;\n",
       "    }\n",
       "\n",
       "    .dataframe tbody tr th {\n",
       "        vertical-align: top;\n",
       "    }\n",
       "\n",
       "    .dataframe thead th {\n",
       "        text-align: right;\n",
       "    }\n",
       "</style>\n",
       "<table border=\"1\" class=\"dataframe\">\n",
       "  <thead>\n",
       "    <tr style=\"text-align: right;\">\n",
       "      <th></th>\n",
       "      <th>Pregnancies</th>\n",
       "      <th>Glucose</th>\n",
       "      <th>BloodPressure</th>\n",
       "      <th>SkinThickness</th>\n",
       "      <th>Insulin</th>\n",
       "      <th>BMI</th>\n",
       "      <th>DiabetesPedigreeFunction</th>\n",
       "      <th>Age</th>\n",
       "      <th>Outcome</th>\n",
       "    </tr>\n",
       "  </thead>\n",
       "  <tbody>\n",
       "    <tr>\n",
       "      <th>Pregnancies</th>\n",
       "      <td>1.000000</td>\n",
       "      <td>0.186460</td>\n",
       "      <td>0.176818</td>\n",
       "      <td>0.083170</td>\n",
       "      <td>-0.109723</td>\n",
       "      <td>0.033272</td>\n",
       "      <td>-0.001766</td>\n",
       "      <td>0.603098</td>\n",
       "      <td>0.258007</td>\n",
       "    </tr>\n",
       "    <tr>\n",
       "      <th>Glucose</th>\n",
       "      <td>0.186460</td>\n",
       "      <td>1.000000</td>\n",
       "      <td>0.204573</td>\n",
       "      <td>0.087840</td>\n",
       "      <td>0.230086</td>\n",
       "      <td>0.118363</td>\n",
       "      <td>0.045364</td>\n",
       "      <td>0.253178</td>\n",
       "      <td>0.436200</td>\n",
       "    </tr>\n",
       "    <tr>\n",
       "      <th>BloodPressure</th>\n",
       "      <td>0.176818</td>\n",
       "      <td>0.204573</td>\n",
       "      <td>1.000000</td>\n",
       "      <td>0.063788</td>\n",
       "      <td>-0.070540</td>\n",
       "      <td>0.222443</td>\n",
       "      <td>-0.003269</td>\n",
       "      <td>0.321781</td>\n",
       "      <td>0.094833</td>\n",
       "    </tr>\n",
       "    <tr>\n",
       "      <th>SkinThickness</th>\n",
       "      <td>0.083170</td>\n",
       "      <td>0.087840</td>\n",
       "      <td>0.063788</td>\n",
       "      <td>1.000000</td>\n",
       "      <td>0.206613</td>\n",
       "      <td>0.505083</td>\n",
       "      <td>0.073626</td>\n",
       "      <td>0.074887</td>\n",
       "      <td>0.119200</td>\n",
       "    </tr>\n",
       "    <tr>\n",
       "      <th>Insulin</th>\n",
       "      <td>-0.109723</td>\n",
       "      <td>0.230086</td>\n",
       "      <td>-0.070540</td>\n",
       "      <td>0.206613</td>\n",
       "      <td>1.000000</td>\n",
       "      <td>0.146924</td>\n",
       "      <td>0.220852</td>\n",
       "      <td>-0.081828</td>\n",
       "      <td>0.044592</td>\n",
       "    </tr>\n",
       "    <tr>\n",
       "      <th>BMI</th>\n",
       "      <td>0.033272</td>\n",
       "      <td>0.118363</td>\n",
       "      <td>0.222443</td>\n",
       "      <td>0.505083</td>\n",
       "      <td>0.146924</td>\n",
       "      <td>1.000000</td>\n",
       "      <td>0.142853</td>\n",
       "      <td>0.090412</td>\n",
       "      <td>0.225709</td>\n",
       "    </tr>\n",
       "    <tr>\n",
       "      <th>DiabetesPedigreeFunction</th>\n",
       "      <td>-0.001766</td>\n",
       "      <td>0.045364</td>\n",
       "      <td>-0.003269</td>\n",
       "      <td>0.073626</td>\n",
       "      <td>0.220852</td>\n",
       "      <td>0.142853</td>\n",
       "      <td>1.000000</td>\n",
       "      <td>0.005206</td>\n",
       "      <td>0.139325</td>\n",
       "    </tr>\n",
       "    <tr>\n",
       "      <th>Age</th>\n",
       "      <td>0.603098</td>\n",
       "      <td>0.253178</td>\n",
       "      <td>0.321781</td>\n",
       "      <td>0.074887</td>\n",
       "      <td>-0.081828</td>\n",
       "      <td>0.090412</td>\n",
       "      <td>0.005206</td>\n",
       "      <td>1.000000</td>\n",
       "      <td>0.306596</td>\n",
       "    </tr>\n",
       "    <tr>\n",
       "      <th>Outcome</th>\n",
       "      <td>0.258007</td>\n",
       "      <td>0.436200</td>\n",
       "      <td>0.094833</td>\n",
       "      <td>0.119200</td>\n",
       "      <td>0.044592</td>\n",
       "      <td>0.225709</td>\n",
       "      <td>0.139325</td>\n",
       "      <td>0.306596</td>\n",
       "      <td>1.000000</td>\n",
       "    </tr>\n",
       "  </tbody>\n",
       "</table>\n",
       "</div>"
      ],
      "text/plain": [
       "                          Pregnancies   Glucose  BloodPressure  SkinThickness  \\\n",
       "Pregnancies                  1.000000  0.186460       0.176818       0.083170   \n",
       "Glucose                      0.186460  1.000000       0.204573       0.087840   \n",
       "BloodPressure                0.176818  0.204573       1.000000       0.063788   \n",
       "SkinThickness                0.083170  0.087840       0.063788       1.000000   \n",
       "Insulin                     -0.109723  0.230086      -0.070540       0.206613   \n",
       "BMI                          0.033272  0.118363       0.222443       0.505083   \n",
       "DiabetesPedigreeFunction    -0.001766  0.045364      -0.003269       0.073626   \n",
       "Age                          0.603098  0.253178       0.321781       0.074887   \n",
       "Outcome                      0.258007  0.436200       0.094833       0.119200   \n",
       "\n",
       "                           Insulin       BMI  DiabetesPedigreeFunction  \\\n",
       "Pregnancies              -0.109723  0.033272                 -0.001766   \n",
       "Glucose                   0.230086  0.118363                  0.045364   \n",
       "BloodPressure            -0.070540  0.222443                 -0.003269   \n",
       "SkinThickness             0.206613  0.505083                  0.073626   \n",
       "Insulin                   1.000000  0.146924                  0.220852   \n",
       "BMI                       0.146924  1.000000                  0.142853   \n",
       "DiabetesPedigreeFunction  0.220852  0.142853                  1.000000   \n",
       "Age                      -0.081828  0.090412                  0.005206   \n",
       "Outcome                   0.044592  0.225709                  0.139325   \n",
       "\n",
       "                               Age   Outcome  \n",
       "Pregnancies               0.603098  0.258007  \n",
       "Glucose                   0.253178  0.436200  \n",
       "BloodPressure             0.321781  0.094833  \n",
       "SkinThickness             0.074887  0.119200  \n",
       "Insulin                  -0.081828  0.044592  \n",
       "BMI                       0.090412  0.225709  \n",
       "DiabetesPedigreeFunction  0.005206  0.139325  \n",
       "Age                       1.000000  0.306596  \n",
       "Outcome                   0.306596  1.000000  "
      ]
     },
     "execution_count": 27,
     "metadata": {},
     "output_type": "execute_result"
    }
   ],
   "source": [
    "#Correlation statistics\n",
    "df.corr()"
   ]
  },
  {
   "cell_type": "code",
   "execution_count": 28,
   "id": "10baf68a",
   "metadata": {
    "scrolled": true
   },
   "outputs": [
    {
     "data": {
      "image/png": "[encoded data removed]",
      "text/plain": [
       "<Figure size 648x432 with 2 Axes>"
      ]
     },
     "metadata": {
      "needs_background": "light"
     },
     "output_type": "display_data"
    }
   ],
   "source": [
    "#Visulaizing Correlations\n",
    "matrix= df.corr()\n",
    "ax= plt.subplots(figsize=(9,6)), sns.heatmap(matrix, vmax= .8, square= True, cmap= \"coolwarm\")"
   ]
  },
  {
   "cell_type": "markdown",
   "id": "14ea22b6",
   "metadata": {},
   "source": [
    "#### We can see that final Outcome is not correlated with most of the features except the Glucose(which has a correlation of 0.4).\n",
    "#### Also, No two features are correlated with each other except Age with Pregnancies and BMI with Skinthickness. So, Most of the features are independent of each other."
   ]
  },
  {
   "cell_type": "markdown",
   "id": "a2059f42",
   "metadata": {},
   "source": [
    "### Feature Selection"
   ]
  },
  {
   "cell_type": "code",
   "execution_count": 29,
   "id": "0bf80e32",
   "metadata": {},
   "outputs": [
    {
     "data": {
      "text/html": [
       "<div>\n",
       "<style scoped>\n",
       "    .dataframe tbody tr th:only-of-type {\n",
       "        vertical-align: middle;\n",
       "    }\n",
       "\n",
       "    .dataframe tbody tr th {\n",
       "        vertical-align: top;\n",
       "    }\n",
       "\n",
       "    .dataframe thead th {\n",
       "        text-align: right;\n",
       "    }\n",
       "</style>\n",
       "<table border=\"1\" class=\"dataframe\">\n",
       "  <thead>\n",
       "    <tr style=\"text-align: right;\">\n",
       "      <th></th>\n",
       "      <th>Pregnancies</th>\n",
       "      <th>Glucose</th>\n",
       "      <th>BloodPressure</th>\n",
       "      <th>SkinThickness</th>\n",
       "      <th>Insulin</th>\n",
       "      <th>BMI</th>\n",
       "      <th>DiabetesPedigreeFunction</th>\n",
       "      <th>Age</th>\n",
       "    </tr>\n",
       "  </thead>\n",
       "  <tbody>\n",
       "    <tr>\n",
       "      <th>0</th>\n",
       "      <td>6</td>\n",
       "      <td>148</td>\n",
       "      <td>72</td>\n",
       "      <td>35</td>\n",
       "      <td>30.5</td>\n",
       "      <td>33.6</td>\n",
       "      <td>0.627</td>\n",
       "      <td>50</td>\n",
       "    </tr>\n",
       "    <tr>\n",
       "      <th>1</th>\n",
       "      <td>1</td>\n",
       "      <td>85</td>\n",
       "      <td>66</td>\n",
       "      <td>29</td>\n",
       "      <td>30.5</td>\n",
       "      <td>26.6</td>\n",
       "      <td>0.351</td>\n",
       "      <td>31</td>\n",
       "    </tr>\n",
       "    <tr>\n",
       "      <th>3</th>\n",
       "      <td>1</td>\n",
       "      <td>89</td>\n",
       "      <td>66</td>\n",
       "      <td>23</td>\n",
       "      <td>94.0</td>\n",
       "      <td>28.1</td>\n",
       "      <td>0.167</td>\n",
       "      <td>21</td>\n",
       "    </tr>\n",
       "    <tr>\n",
       "      <th>5</th>\n",
       "      <td>5</td>\n",
       "      <td>116</td>\n",
       "      <td>74</td>\n",
       "      <td>23</td>\n",
       "      <td>30.5</td>\n",
       "      <td>25.6</td>\n",
       "      <td>0.201</td>\n",
       "      <td>30</td>\n",
       "    </tr>\n",
       "    <tr>\n",
       "      <th>6</th>\n",
       "      <td>3</td>\n",
       "      <td>78</td>\n",
       "      <td>50</td>\n",
       "      <td>32</td>\n",
       "      <td>88.0</td>\n",
       "      <td>31.0</td>\n",
       "      <td>0.248</td>\n",
       "      <td>26</td>\n",
       "    </tr>\n",
       "  </tbody>\n",
       "</table>\n",
       "</div>"
      ],
      "text/plain": [
       "   Pregnancies  Glucose  BloodPressure  SkinThickness  Insulin   BMI  \\\n",
       "0            6      148             72             35     30.5  33.6   \n",
       "1            1       85             66             29     30.5  26.6   \n",
       "3            1       89             66             23     94.0  28.1   \n",
       "5            5      116             74             23     30.5  25.6   \n",
       "6            3       78             50             32     88.0  31.0   \n",
       "\n",
       "   DiabetesPedigreeFunction  Age  \n",
       "0                     0.627   50  \n",
       "1                     0.351   31  \n",
       "3                     0.167   21  \n",
       "5                     0.201   30  \n",
       "6                     0.248   26  "
      ]
     },
     "execution_count": 29,
     "metadata": {},
     "output_type": "execute_result"
    }
   ],
   "source": [
    "X = df.drop(columns='Outcome')\n",
    "X.head()"
   ]
  },
  {
   "cell_type": "code",
   "execution_count": 30,
   "id": "9b59a100",
   "metadata": {},
   "outputs": [
    {
     "data": {
      "text/plain": [
       "0    1\n",
       "1    0\n",
       "3    0\n",
       "5    0\n",
       "6    1\n",
       "Name: Outcome, dtype: int64"
      ]
     },
     "execution_count": 30,
     "metadata": {},
     "output_type": "execute_result"
    }
   ],
   "source": [
    "Y = df['Outcome']\n",
    "Y.head()"
   ]
  },
  {
   "cell_type": "markdown",
   "id": "a3eb605e",
   "metadata": {},
   "source": [
    "### Data split"
   ]
  },
  {
   "cell_type": "code",
   "execution_count": 31,
   "id": "7b8e943d",
   "metadata": {},
   "outputs": [],
   "source": [
    "from sklearn.model_selection import train_test_split\n",
    "X_train, X_test, Y_train, Y_test = train_test_split(X, Y, train_size=0.8, test_size=0.2, random_state=42)"
   ]
  },
  {
   "cell_type": "code",
   "execution_count": 32,
   "id": "a948aa5a",
   "metadata": {},
   "outputs": [
    {
     "name": "stdout",
     "output_type": "stream",
     "text": [
      "X_train: (380, 8)\n",
      "X_test: (95, 8)\n",
      "Y_train: (380,)\n",
      "Y_test: (95,)\n"
     ]
    }
   ],
   "source": [
    "print(\"X_train:\",X_train.shape)\n",
    "print(\"X_test:\",X_test.shape)\n",
    "print(\"Y_train:\",Y_train.shape)\n",
    "print(\"Y_test:\",Y_test.shape)"
   ]
  },
  {
   "cell_type": "markdown",
   "id": "8cf152bc",
   "metadata": {},
   "source": [
    "## Balancing Classes"
   ]
  },
  {
   "cell_type": "code",
   "execution_count": 33,
   "id": "fefee53a",
   "metadata": {},
   "outputs": [
    {
     "data": {
      "text/plain": [
       "0    350\n",
       "1    125\n",
       "Name: Outcome, dtype: int64"
      ]
     },
     "execution_count": 33,
     "metadata": {},
     "output_type": "execute_result"
    }
   ],
   "source": [
    "df['Outcome'].value_counts()"
   ]
  },
  {
   "cell_type": "markdown",
   "id": "0aeca7b7",
   "metadata": {},
   "source": [
    "#### Implementing OverSampling in order to make minority class equal to majority class created duplicates and also overfitted in our case.\n",
    "#### ALso, Working with DownSampling left with a very small dataset than it is which underfits the model.\n",
    "#### So, Using SMOTE(Synthetic Minority Oversampling Technique), since it retains and doesn't dupliacte as well."
   ]
  },
  {
   "cell_type": "code",
   "execution_count": 34,
   "id": "31563da5",
   "metadata": {},
   "outputs": [
    {
     "name": "stdout",
     "output_type": "stream",
     "text": [
      "Before UpSampling, counts of label '1': 102\n",
      "Before UpSampling, counts of label '0': 278 \n",
      "\n",
      "After UpSampling, counts of label '1': 278\n",
      "After UpSampling, counts of label '0': 278 \n",
      "\n",
      "After UpSampling, the shape of train_X: (556, 8)\n",
      "After UpSampling, the shape of train_y: (556,) \n",
      "\n"
     ]
    }
   ],
   "source": [
    "from imblearn.over_sampling import SMOTE\n",
    "\n",
    "# oversample = SMOTE()\n",
    "# X, y = oversample.fit_resample(X, y)\n",
    "\n",
    "print(\"Before UpSampling, counts of label '1': {}\".format(sum(Y_train==1)))\n",
    "print(\"Before UpSampling, counts of label '0': {} \\n\".format(sum(Y_train==0)))\n",
    "\n",
    "sm = SMOTE(sampling_strategy = 1 ,k_neighbors = 5, random_state=1)   #Synthetic Minority Over Sampling Technique\n",
    "X_train_res, Y_train_res = sm.fit_resample(X_train, Y_train.ravel())\n",
    "\n",
    "\n",
    "print(\"After UpSampling, counts of label '1': {}\".format(sum(Y_train_res==1)))\n",
    "print(\"After UpSampling, counts of label '0': {} \\n\".format(sum(Y_train_res==0)))\n",
    "\n",
    "\n",
    "\n",
    "print('After UpSampling, the shape of train_X: {}'.format(X_train_res.shape))\n",
    "print('After UpSampling, the shape of train_y: {} \\n'.format(Y_train_res.shape))"
   ]
  },
  {
   "cell_type": "markdown",
   "id": "6003a681",
   "metadata": {},
   "source": [
    "## Feature Scaling"
   ]
  },
  {
   "cell_type": "markdown",
   "id": "436a265c",
   "metadata": {},
   "source": [
    "##### Technique to standardize the independent features present in the data in a fixed range. \n",
    "##### It is performed during the data pre-processing to handle highly varying magnitudes or values or units. If feature scaling is not done, then a machine learning algorithm tends to weigh greater values, higher and consider smaller values as the lower values, regardless of the unit of the values.\n",
    "\n",
    "### Standard Scaler: It is a very effective technique which re-scales a feature value so that it has distribution with 0 mean value and variance equals to 1.\n",
    "\n",
    "## In our case for example the Age ranges from 20 to 80 years old, while the number of times a patient has been pregnant ranges from 0 to 17. For this reason we need to apply a proper transformation."
   ]
  },
  {
   "cell_type": "code",
   "execution_count": 35,
   "id": "7fabc52b",
   "metadata": {},
   "outputs": [],
   "source": [
    "from sklearn.preprocessing import StandardScaler \n",
    "sc = StandardScaler()\n",
    "X_train = sc.fit_transform(X_train_res)\n",
    "X_test = sc.transform(X_test)"
   ]
  },
  {
   "cell_type": "markdown",
   "id": "b189630b",
   "metadata": {},
   "source": [
    "## Logistic Regression"
   ]
  },
  {
   "cell_type": "code",
   "execution_count": 36,
   "id": "fe3a2496",
   "metadata": {},
   "outputs": [
    {
     "name": "stdout",
     "output_type": "stream",
     "text": [
      "Best Score: 0.7494805194805195\n",
      "Best Hyperparameters: {'C': 0.04529038089384993, 'penalty': 'l1', 'solver': 'liblinear'}\n"
     ]
    }
   ],
   "source": [
    "# random search logistic regression model on the sonar dataset\n",
    "from scipy.stats import loguniform\n",
    "from sklearn.linear_model import LogisticRegression\n",
    "from sklearn.model_selection import RepeatedStratifiedKFold\n",
    "from sklearn.model_selection import RandomizedSearchCV\n",
    "\n",
    "# define evaluation\n",
    "cv = RepeatedStratifiedKFold(n_splits=10, n_repeats=3, random_state=1)\n",
    "# define search space\n",
    "space = { 'solver' : ['newton-cg', 'lbfgs', 'liblinear'],\n",
    "         'penalty' : ['none', 'l1', 'l2', 'elasticnet'],\n",
    "         'C' : loguniform(1e-5, 100)   \n",
    "        }\n",
    "\n",
    "logreg = LogisticRegression()\n",
    "# define search\n",
    "search = RandomizedSearchCV(logreg, space, n_iter=500, scoring='accuracy', n_jobs=-1, cv=cv, random_state=1)\n",
    "# execute search\n",
    "result = search.fit(X_train, Y_train_res)\n",
    "# summarize result\n",
    "print('Best Score: %s' % result.best_score_)\n",
    "print('Best Hyperparameters: %s' % result.best_params_)"
   ]
  },
  {
   "cell_type": "code",
   "execution_count": 37,
   "id": "20b8de00",
   "metadata": {},
   "outputs": [],
   "source": [
    "# clf.best_score_"
   ]
  },
  {
   "cell_type": "code",
   "execution_count": 38,
   "id": "a05865ce",
   "metadata": {},
   "outputs": [],
   "source": [
    "from sklearn.linear_model import LogisticRegression\n",
    "\n",
    "import sklearn.metrics as metrics\n",
    "from sklearn.metrics import confusion_matrix\n",
    "from sklearn.model_selection import train_test_split\n",
    "from sklearn.model_selection import KFold, cross_val_score\n",
    "from sklearn.model_selection import StratifiedKFold\n",
    "from statistics import mean, stdev"
   ]
  },
  {
   "cell_type": "code",
   "execution_count": 39,
   "id": "8d8ea5a6",
   "metadata": {},
   "outputs": [
    {
     "data": {
      "image/png": "[encoded data removed]",
      "text/plain": [
       "<Figure size 360x216 with 2 Axes>"
      ]
     },
     "metadata": {
      "needs_background": "light"
     },
     "output_type": "display_data"
    }
   ],
   "source": [
    "lr = LogisticRegression(C= 0.04529038089384993, penalty= 'l1', solver= 'liblinear')\n",
    "lr.fit(X_train, Y_train_res)\n",
    "y_pred = lr.predict(X_test)\n",
    "\n",
    "#Creating confusion matrix\n",
    "ConfusionMatrix = confusion_matrix(Y_test, y_pred)\n",
    "\n",
    "plt.figure(figsize=(5,3))\n",
    "sns.heatmap(ConfusionMatrix, annot=True,cmap=\"YlGn\",fmt='g')\n",
    "plt.show()\n",
    "# lr.fit(X_train, Y_train_res)"
   ]
  },
  {
   "cell_type": "code",
   "execution_count": 40,
   "id": "5ab34a34",
   "metadata": {},
   "outputs": [
    {
     "data": {
      "image/png": "[encoded data removed]",
      "text/plain": [
       "<Figure size 432x288 with 1 Axes>"
      ]
     },
     "metadata": {
      "needs_background": "light"
     },
     "output_type": "display_data"
    }
   ],
   "source": [
    "importance = lr.coef_[0]\n",
    "\n",
    "#plot graph of feature importances for better visualization\n",
    "feat_importances = pd.Series(importance, index=features)\n",
    "feat_importances.nlargest(10).plot(kind='barh')\n",
    "plt.show()\n",
    "\n",
    "\n",
    "# #importance is a list so you can plot it. \n",
    "# feat_importances = pd.Series(importance, index = features)\n",
    "# feat_importances.nlargest(20).plot(kind='barh',title = 'Feature Importance')"
   ]
  },
  {
   "cell_type": "code",
   "execution_count": 41,
   "id": "aa9d7643",
   "metadata": {},
   "outputs": [
    {
     "name": "stdout",
     "output_type": "stream",
     "text": [
      "Accuracy from confusion matrix is  0.6842105263157895\n",
      "Precision of Logistic Regression:  0.9565217391304348\n",
      "Recall of Logistic Regression:  0.6111111111111112\n",
      "F1_score of Logistic Regression:  0.7457627118644068\n"
     ]
    }
   ],
   "source": [
    "#Accuracy from confusion matrix\n",
    "TP= ConfusionMatrix[1,1] #True positive\n",
    "TN= ConfusionMatrix[0,0] #True negative\n",
    "FP= ConfusionMatrix[0,1] #False positive\n",
    "FN= ConfusionMatrix[1,0] #False negative\n",
    "\n",
    "precision = TN/(TN+FN)\n",
    "recall = TN/(TN+FP)\n",
    "f1_score = 2*precision*recall/(precision + recall)\n",
    "Total=len(Y_test)\n",
    "\n",
    "print(\"Accuracy from confusion matrix is \", (TN+TP)/Total)\n",
    "print(\"Precision of Logistic Regression: \",precision)\n",
    "print(\"Recall of Logistic Regression: \",recall)\n",
    "print(\"F1_score of Logistic Regression: \",f1_score)"
   ]
  },
  {
   "cell_type": "code",
   "execution_count": 42,
   "id": "3a841243",
   "metadata": {},
   "outputs": [
    {
     "data": {
      "image/png": "[encoded data removed]",
      "text/plain": [
       "<Figure size 432x288 with 1 Axes>"
      ]
     },
     "metadata": {
      "needs_background": "light"
     },
     "output_type": "display_data"
    }
   ],
   "source": [
    "model_acc = []\n",
    "model_skf = []\n",
    "# models = [lr, model, dtree, rf, knn, gb, xgb_clf, nvb]\n",
    "\n",
    "\n",
    "#define metrics\n",
    "y_pred_proba = lr.predict_proba(X_test)[::,1]\n",
    "fpr, tpr, _ = metrics.roc_curve(Y_test,  y_pred_proba)\n",
    "auc = metrics.roc_auc_score(Y_test, y_pred_proba)\n",
    "model_acc.append(auc)\n",
    "\n",
    "#create ROC curve\n",
    "plt.plot(fpr,tpr,label=\"AUC=\"+str(auc))\n",
    "plt.ylabel('True Positive Rate')\n",
    "plt.legend(loc=4)\n",
    "plt.show()"
   ]
  },
  {
   "cell_type": "code",
   "execution_count": 43,
   "id": "8e99ed03",
   "metadata": {},
   "outputs": [
    {
     "name": "stdout",
     "output_type": "stream",
     "text": [
      "Overall Accuracy: 0.7727836879432624\n"
     ]
    }
   ],
   "source": [
    "skf = StratifiedKFold(n_splits=10, random_state=None) \n",
    "# skf.get_n_split(X,Y)\n",
    "lst_accu_stratified = []\n",
    "\n",
    "for train_index, test_index in skf.split(X, Y): \n",
    "    X_train_fold, X_test_fold = X.iloc[train_index], X.iloc[test_index] \n",
    "    y_train_fold, y_test_fold = Y.iloc[train_index], Y.iloc[test_index] \n",
    "    lr.fit(X_train_fold, y_train_fold) \n",
    "    lst_accu_stratified.append(lr.score(X_test_fold, y_test_fold))\n",
    "\n",
    "print('Overall Accuracy:',mean(lst_accu_stratified))\n",
    "model_skf.append(mean(lst_accu_stratified))\n",
    "\n",
    "# k_folds = KFold(n_splits = 10)\n",
    "\n",
    "# scores = cross_val_score(lr, X, Y, cv = k_folds)\n",
    "\n",
    "# print(\"Average CV Score: \", scores.mean())"
   ]
  },
  {
   "cell_type": "markdown",
   "id": "3daefc59",
   "metadata": {},
   "source": [
    "## Support Vector Machine"
   ]
  },
  {
   "cell_type": "code",
   "execution_count": 44,
   "id": "558d6a57",
   "metadata": {
    "scrolled": false
   },
   "outputs": [],
   "source": [
    "# from sklearn.model_selection import GridSearchCV\n",
    "# from sklearn import svm\n",
    "# from sklearn.svm import SVC\n",
    "\n",
    " \n",
    "# # defining parameter range\n",
    "# param_grid = {'C': [0.1, 1, 10, 100, 1000],\n",
    "#               'gamma': [1, 0.1, 0.01, 0.001, 0.0001],\n",
    "#               'kernel': ['linear', 'poly', 'rbf', 'sigmoid']}\n",
    "\n",
    "# cv = RepeatedStratifiedKFold(n_splits=10, n_repeats=3, random_state=1)\n",
    " \n",
    "# grid = GridSearchCV(SVC(), param_grid, refit = True, verbose = 3,cv=cv)\n",
    " \n",
    "# # fitting the model for grid search\n",
    "# grid.fit(X_train, Y_train_res)\n",
    "\n",
    "# # print how our model looks after hyper-parameter tuning\n",
    "# print(grid.best_estimator_)"
   ]
  },
  {
   "cell_type": "code",
   "execution_count": 45,
   "id": "74914db0",
   "metadata": {},
   "outputs": [],
   "source": [
    "# # print best parameter after tuning\n",
    "# print(grid.best_params_)\n",
    " \n",
    "# # print how our model looks after hyper-parameter tuning\n",
    "# print(grid.best_estimator_)"
   ]
  },
  {
   "cell_type": "code",
   "execution_count": 46,
   "id": "6b12df4c",
   "metadata": {},
   "outputs": [
    {
     "name": "stdout",
     "output_type": "stream",
     "text": [
      "linear\n",
      "0.7643884892086331\n",
      "poly\n",
      "0.8507194244604317\n",
      "rbf\n",
      "0.8884892086330936\n",
      "sigmoid\n",
      "0.6960431654676259\n"
     ]
    }
   ],
   "source": [
    "from sklearn import svm\n",
    "from sklearn.metrics import accuracy_score, classification_report\n",
    "\n",
    "\n",
    "# SVM Kernels\n",
    "for k in ('linear', 'poly', 'rbf', 'sigmoid'):\n",
    "    SVM = svm.SVC(kernel=k)\n",
    "    SVM.fit(X_train, Y_train_res)\n",
    "    y_pred = SVM.predict(X_train)\n",
    "    print(k)\n",
    "    print(accuracy_score(Y_train_res, y_pred))"
   ]
  },
  {
   "cell_type": "code",
   "execution_count": 47,
   "id": "c26d90de",
   "metadata": {},
   "outputs": [
    {
     "name": "stdout",
     "output_type": "stream",
     "text": [
      "Accuracy Score: 0.7473684210526316\n"
     ]
    }
   ],
   "source": [
    "# Using the best model\n",
    "SVM = svm.SVC(kernel= 'rbf',probability=True)\n",
    "SVM.fit(X_train, Y_train_res)\n",
    "\n",
    "y_pred = SVM.predict(X_test)\n",
    "print(\"Accuracy Score:\", accuracy_score(Y_test, y_pred))"
   ]
  },
  {
   "cell_type": "code",
   "execution_count": 48,
   "id": "ee72a050",
   "metadata": {},
   "outputs": [
    {
     "name": "stdout",
     "output_type": "stream",
     "text": [
      "Precision is 0.4878048780487805\n",
      "Recall is 0.8695652173913043\n",
      "F1 score is 0.625\n"
     ]
    }
   ],
   "source": [
    "# Compute precision, recall and f1 score\n",
    "from sklearn.metrics import recall_score, precision_score, f1_score\n",
    "    \n",
    "precision = precision_score(Y_test, y_pred)\n",
    "recall = recall_score(Y_test, y_pred)\n",
    "f1 = f1_score(Y_test, y_pred)\n",
    "    \n",
    "print(\"Precision is\", precision)\n",
    "print(\"Recall is\", recall)\n",
    "print(\"F1 score is\", f1)"
   ]
  },
  {
   "cell_type": "code",
   "execution_count": 49,
   "id": "12b9cdb3",
   "metadata": {},
   "outputs": [
    {
     "data": {
      "image/png": "[encoded data removed]",
      "text/plain": [
       "<Figure size 360x216 with 2 Axes>"
      ]
     },
     "metadata": {
      "needs_background": "light"
     },
     "output_type": "display_data"
    }
   ],
   "source": [
    "y_pred = SVM.predict(X_test)\n",
    "\n",
    "#Creating confusion matrix\n",
    "ConfusionMatrix = confusion_matrix(Y_test, y_pred)\n",
    "#print(ConfusionMatrix)\n",
    "\n",
    "plt.figure(figsize=(5,3))\n",
    "sns.heatmap(ConfusionMatrix, annot=True,cmap=\"YlGnBu\",fmt='g')\n",
    "plt.show()"
   ]
  },
  {
   "cell_type": "code",
   "execution_count": 50,
   "id": "020c8d93",
   "metadata": {},
   "outputs": [
    {
     "data": {
      "image/png": "[encoded data removed]",
      "text/plain": [
       "<Figure size 432x288 with 1 Axes>"
      ]
     },
     "metadata": {
      "needs_background": "light"
     },
     "output_type": "display_data"
    }
   ],
   "source": [
    "#define metrics\n",
    "y_pred_proba = SVM.predict_proba(X_test)[::,1]\n",
    "fpr, tpr, _ = metrics.roc_curve(Y_test,  y_pred_proba)\n",
    "auc = metrics.roc_auc_score(Y_test, y_pred_proba)\n",
    "model_acc.append(auc)\n",
    "\n",
    "#create ROC curve\n",
    "plt.plot(fpr,tpr,label=\"AUC=\"+str(auc))\n",
    "plt.ylabel('True Positive Rate')\n",
    "plt.xlabel('False Positive Rate')\n",
    "plt.legend(loc=4)\n",
    "plt.show()"
   ]
  },
  {
   "cell_type": "code",
   "execution_count": 51,
   "id": "bfe5a8e9",
   "metadata": {},
   "outputs": [
    {
     "name": "stdout",
     "output_type": "stream",
     "text": [
      "Overall Accuracy: 0.7810526315789473\n"
     ]
    }
   ],
   "source": [
    "skf = StratifiedKFold(n_splits=5, random_state=None) \n",
    "# skf.get_n_split(X,Y)\n",
    "lst_accu_stratified = []\n",
    "\n",
    "for train_index, test_index in skf.split(X, Y): \n",
    "    X_train_fold, X_test_fold = X.iloc[train_index], X.iloc[test_index] \n",
    "    y_train_fold, y_test_fold = Y.iloc[train_index], Y.iloc[test_index] \n",
    "    SVM.fit(X_train_fold, y_train_fold) \n",
    "    lst_accu_stratified.append(SVM.score(X_test_fold, y_test_fold))\n",
    "\n",
    "print('Overall Accuracy:',mean(lst_accu_stratified))\n",
    "model_skf.append(mean(lst_accu_stratified))\n",
    "\n",
    "# k_folds = KFold(n_splits = 10)\n",
    "\n",
    "# scores = cross_val_score(lr, X, Y, cv = k_folds)\n",
    "\n",
    "# print(\"Average CV Score: \", scores.mean())"
   ]
  },
  {
   "cell_type": "markdown",
   "id": "01d85caa",
   "metadata": {},
   "source": [
    "## Decision Tree"
   ]
  },
  {
   "cell_type": "code",
   "execution_count": 52,
   "id": "11f09352",
   "metadata": {},
   "outputs": [
    {
     "name": "stdout",
     "output_type": "stream",
     "text": [
      "Tuned Decision Tree Parameters: {'criterion': 'gini', 'max_depth': None, 'max_features': 4, 'min_samples_leaf': 4}\n",
      "Best score is 0.7787966537966539\n"
     ]
    }
   ],
   "source": [
    "# Necessary imports\n",
    "from scipy.stats import randint\n",
    "from sklearn.tree import DecisionTreeClassifier\n",
    "from sklearn.model_selection import RandomizedSearchCV\n",
    "\n",
    "# Creating the hyperparameter grid\n",
    "param_dist = {\"max_depth\": [3, None],\n",
    "\t\t\t\"max_features\": randint(1, 9),\n",
    "\t\t\t\"min_samples_leaf\": randint(1, 9),\n",
    "\t\t\t\"criterion\": [\"gini\", \"entropy\"]}\n",
    "\n",
    "# Instantiating Decision Tree classifier\n",
    "tree = DecisionTreeClassifier(random_state=0)\n",
    "\n",
    "# Instantiating RandomizedSearchCV object\n",
    "tree_cv = RandomizedSearchCV(tree, param_dist, cv = 5)\n",
    "\n",
    "tree_cv.fit(X_train, Y_train_res)\n",
    "\n",
    "# Print the tuned parameters and score\n",
    "print(\"Tuned Decision Tree Parameters: {}\".format(tree_cv.best_params_))\n",
    "print(\"Best score is {}\".format(tree_cv.best_score_))\n"
   ]
  },
  {
   "cell_type": "code",
   "execution_count": 53,
   "id": "2b760ec4",
   "metadata": {},
   "outputs": [
    {
     "data": {
      "image/png": "[encoded data removed]",
      "text/plain": [
       "<Figure size 360x216 with 2 Axes>"
      ]
     },
     "metadata": {
      "needs_background": "light"
     },
     "output_type": "display_data"
    }
   ],
   "source": [
    "from sklearn import tree\n",
    "import pydotplus\n",
    "from sklearn.tree import DecisionTreeClassifier\n",
    "import matplotlib.pyplot as plt\n",
    "import matplotlib.image as pltimg\n",
    "\n",
    "features= ['Pregnancies','Glucose','BloodPressure','SkinThickness','Insulin','BMI','DiabetesPedigreeFunction','Age']\n",
    "target=['Outcome']\n",
    "dtree = DecisionTreeClassifier(criterion= 'gini', max_depth= None, max_features= 6, min_samples_leaf= 4,random_state=0)\n",
    "dtree = dtree.fit(X_train, Y_train_res)\n",
    "y_pred = dtree.predict(X_test)\n",
    "\n",
    "ConfusionMatrix = confusion_matrix(Y_test, y_pred)\n",
    "plt.figure(figsize=(5,3))\n",
    "sns.heatmap(ConfusionMatrix, annot=True,cmap=\"YlGnBu\",fmt='g')\n",
    "plt.show()"
   ]
  },
  {
   "cell_type": "code",
   "execution_count": 54,
   "id": "1e152a20",
   "metadata": {},
   "outputs": [
    {
     "name": "stdout",
     "output_type": "stream",
     "text": [
      "Accuracy Score: 0.6947368421052632\n",
      "Precision is 0.42105263157894735\n",
      "Recall is 0.6956521739130435\n",
      "F1 score is 0.5245901639344263\n"
     ]
    }
   ],
   "source": [
    "precision = precision_score(Y_test, y_pred)\n",
    "recall = recall_score(Y_test, y_pred)\n",
    "f1 = f1_score(Y_test, y_pred)\n",
    "\n",
    "print(\"Accuracy Score:\", accuracy_score(Y_test, y_pred))\n",
    "print(\"Precision is\", precision)\n",
    "print(\"Recall is\", recall)\n",
    "print(\"F1 score is\", f1)"
   ]
  },
  {
   "cell_type": "code",
   "execution_count": 55,
   "id": "a36fe5cd",
   "metadata": {},
   "outputs": [
    {
     "data": {
      "image/png": "[encoded data removed]",
      "text/plain": [
       "<Figure size 432x288 with 1 Axes>"
      ]
     },
     "metadata": {
      "needs_background": "light"
     },
     "output_type": "display_data"
    }
   ],
   "source": [
    "#define metrics\n",
    "y_pred_proba = dtree.predict_proba(X_test)[::,1]\n",
    "fpr, tpr, _ = metrics.roc_curve(Y_test,  y_pred_proba)\n",
    "auc = metrics.roc_auc_score(Y_test, y_pred_proba)\n",
    "model_acc.append(auc)\n",
    "\n",
    "#create ROC curve\n",
    "plt.plot(fpr,tpr,label=\"AUC=\"+str(auc))\n",
    "plt.ylabel('True Positive Rate')\n",
    "plt.xlabel('False Positive Rate')\n",
    "plt.legend(loc=4)\n",
    "plt.show()"
   ]
  },
  {
   "cell_type": "code",
   "execution_count": 56,
   "id": "0fa5c89d",
   "metadata": {},
   "outputs": [
    {
     "data": {
      "image/png": "[encoded data removed]",
      "text/plain": [
       "<Figure size 432x288 with 1 Axes>"
      ]
     },
     "metadata": {
      "needs_background": "light"
     },
     "output_type": "display_data"
    }
   ],
   "source": [
    "data = tree.export_graphviz(dtree, out_file=None, feature_names=features)\n",
    "graph = pydotplus.graph_from_dot_data(data)\n",
    "graph.write_png('mydecisiontree.png')\n",
    "\n",
    "img=pltimg.imread('mydecisiontree.png')\n",
    "imgplot = plt.imshow(img)\n",
    "plt.show()"
   ]
  },
  {
   "cell_type": "code",
   "execution_count": 57,
   "id": "4be81a90",
   "metadata": {},
   "outputs": [
    {
     "name": "stdout",
     "output_type": "stream",
     "text": [
      "Overall Accuracy: 0.730718085106383\n"
     ]
    }
   ],
   "source": [
    "skf = StratifiedKFold(n_splits=10, random_state=None) \n",
    "# skf.get_n_split(X,Y)\n",
    "lst_accu_stratified = []\n",
    "\n",
    "for train_index, test_index in skf.split(X, Y): \n",
    "    X_train_fold, X_test_fold = X.iloc[train_index], X.iloc[test_index] \n",
    "    y_train_fold, y_test_fold = Y.iloc[train_index], Y.iloc[test_index] \n",
    "    dtree.fit(X_train_fold, y_train_fold) \n",
    "    lst_accu_stratified.append(dtree.score(X_test_fold, y_test_fold))\n",
    "\n",
    "print('Overall Accuracy:',mean(lst_accu_stratified))\n",
    "model_skf.append(mean(lst_accu_stratified))\n",
    "# k_folds = KFold(n_splits = 10)\n",
    "\n",
    "# scores = cross_val_score(lr, X, Y, cv = k_folds)\n",
    "\n",
    "# print(\"Average CV Score: \", scores.mean())"
   ]
  },
  {
   "cell_type": "markdown",
   "id": "46957917",
   "metadata": {},
   "source": [
    "## Randomized Decision Tree"
   ]
  },
  {
   "cell_type": "code",
   "execution_count": 58,
   "id": "5b8c830f",
   "metadata": {},
   "outputs": [],
   "source": [
    "# from sklearn.ensemble import RandomForestClassifier\n",
    "# from sklearn.model_selection import GridSearchCV\n",
    "# from sklearn.model_selection import RandomizedSearchCV\n",
    "\n",
    "# RFReg = RandomForestRegressor() \n",
    "\n",
    "# param_grid = { \n",
    "#     'max_features' : [\"auto\", \"sqrt\", \"log2\"],\n",
    "#     'min_samples_split' : np.linspace(0.1, 1.0, 10),\n",
    "#      'max_depth' : [x for x in range(1,20)]\n",
    "#      }\n",
    "\n",
    "\n",
    "\n",
    "# CV_rfc = RandomizedSearchCV(RFReg, param_grid, cv= 10,n_estimators = 500, random_state = 1, n_jobs = -1)\n",
    "# CV_rfc.fit(X_train, Y_train_res)\n",
    "\n",
    "# print(\"Params: \",CV_rfc.best_params_)\n",
    "# #{'min_samples_split': 0.1, 'max_features': 'auto', 'max_depth': 18}\n",
    "# print(\"Score: \",CV_rfc.best_score_)"
   ]
  },
  {
   "cell_type": "code",
   "execution_count": 59,
   "id": "0337ef20",
   "metadata": {},
   "outputs": [
    {
     "data": {
      "image/png": "[encoded data removed]",
      "text/plain": [
       "<Figure size 360x216 with 2 Axes>"
      ]
     },
     "metadata": {
      "needs_background": "light"
     },
     "output_type": "display_data"
    }
   ],
   "source": [
    "from sklearn.ensemble import RandomForestClassifier\n",
    "\n",
    "rf = RandomForestClassifier(criterion='entropy')\n",
    "rf = rf.fit(X_train, Y_train_res)\n",
    "y_pred = rf.predict(X_test)\n",
    "\n",
    "ConfusionMatrix = confusion_matrix(Y_test, y_pred)\n",
    "plt.figure(figsize=(5,3))\n",
    "sns.heatmap(ConfusionMatrix, annot=True,cmap=\"YlGnBu\",fmt='g')\n",
    "plt.show()"
   ]
  },
  {
   "cell_type": "code",
   "execution_count": 60,
   "id": "b14340f4",
   "metadata": {},
   "outputs": [
    {
     "data": {
      "text/plain": [
       "<AxesSubplot:title={'center':'Feature Importance'}>"
      ]
     },
     "execution_count": 60,
     "metadata": {},
     "output_type": "execute_result"
    },
    {
     "data": {
      "image/png": "[encoded data removed]",
      "text/plain": [
       "<Figure size 432x288 with 1 Axes>"
      ]
     },
     "metadata": {
      "needs_background": "light"
     },
     "output_type": "display_data"
    }
   ],
   "source": [
    "# from sklearn.feature_selection import SelectFromModel\n",
    "# import matplotlib\n",
    "\n",
    "# clf = RandomForestClassifier()\n",
    "# clf = clf.fit(X_train,y_train)\n",
    "# clf.feature_importances_  \n",
    "# model = SelectFromModel(clf, prefit=True)\n",
    "# test_X_new = model.transform(X_test)\n",
    "\n",
    "# matplotlib.rc('figure', figsize=[5,5])\n",
    "# plt.style.use('ggplot')\n",
    "\n",
    "feat_importances = pd.Series(rf.feature_importances_, index=features)\n",
    "feat_importances.nlargest(20).plot(kind='barh',title = 'Feature Importance')"
   ]
  },
  {
   "cell_type": "code",
   "execution_count": 61,
   "id": "791d9987",
   "metadata": {},
   "outputs": [
    {
     "name": "stdout",
     "output_type": "stream",
     "text": [
      "Accuracy Score: 0.7052631578947368\n",
      "Precision is 0.4358974358974359\n",
      "Recall is 0.7391304347826086\n",
      "F1 score is 0.5483870967741935\n"
     ]
    }
   ],
   "source": [
    "precision = precision_score(Y_test, y_pred)\n",
    "recall = recall_score(Y_test, y_pred)\n",
    "f1 = f1_score(Y_test, y_pred)\n",
    "\n",
    "print(\"Accuracy Score:\", accuracy_score(Y_test, y_pred))\n",
    "print(\"Precision is\", precision)\n",
    "print(\"Recall is\", recall)\n",
    "print(\"F1 score is\", f1)"
   ]
  },
  {
   "cell_type": "code",
   "execution_count": 62,
   "id": "bfc22326",
   "metadata": {},
   "outputs": [
    {
     "data": {
      "image/png": "[encoded data removed]",
      "text/plain": [
       "<Figure size 432x288 with 1 Axes>"
      ]
     },
     "metadata": {
      "needs_background": "light"
     },
     "output_type": "display_data"
    }
   ],
   "source": [
    "#define metrics\n",
    "y_pred_proba = rf.predict_proba(X_test)[::,1]\n",
    "fpr, tpr, _ = metrics.roc_curve(Y_test,  y_pred_proba)\n",
    "auc = metrics.roc_auc_score(Y_test, y_pred_proba)\n",
    "model_acc.append(auc)\n",
    "\n",
    "#create ROC curve\n",
    "plt.plot(fpr,tpr,label=\"AUC=\"+str(auc))\n",
    "plt.ylabel('True Positive Rate')\n",
    "plt.xlabel('False Positive Rate')\n",
    "plt.legend(loc=4)\n",
    "plt.show()"
   ]
  },
  {
   "cell_type": "code",
   "execution_count": 63,
   "id": "9d30ca90",
   "metadata": {},
   "outputs": [
    {
     "name": "stdout",
     "output_type": "stream",
     "text": [
      "Overall Accuracy: 0.783157894736842\n"
     ]
    }
   ],
   "source": [
    "skf = StratifiedKFold(n_splits=5, random_state=None) \n",
    "# skf.get_n_split(X,Y)\n",
    "lst_accu_stratified = []\n",
    "\n",
    "for train_index, test_index in skf.split(X, Y): \n",
    "    X_train_fold, X_test_fold = X.iloc[train_index], X.iloc[test_index] \n",
    "    y_train_fold, y_test_fold = Y.iloc[train_index], Y.iloc[test_index] \n",
    "    rf.fit(X_train_fold, y_train_fold) \n",
    "    lst_accu_stratified.append(rf.score(X_test_fold, y_test_fold))\n",
    "\n",
    "print('Overall Accuracy:',mean(lst_accu_stratified))\n",
    "model_skf.append(mean(lst_accu_stratified))\n",
    "\n",
    "# k_folds = KFold(n_splits = 10)\n",
    "\n",
    "# scores = cross_val_score(lr, X, Y, cv = k_folds)\n",
    "\n",
    "# print(\"Average CV Score: \", scores.mean())"
   ]
  },
  {
   "cell_type": "markdown",
   "id": "102b385c",
   "metadata": {},
   "source": [
    "## K-Nearest Neighbor"
   ]
  },
  {
   "cell_type": "code",
   "execution_count": 64,
   "id": "b1fa65c3",
   "metadata": {},
   "outputs": [],
   "source": [
    "# from sklearn.neighbors import KNeighborsClassifier\n",
    "# training_accuracy = []\n",
    "# test_accuracy = []\n",
    "\n",
    "# # try n_neighbors from 1 to 10\n",
    "# neighbors_settings = range(1, 11)\n",
    "# for n_neighbors in neighbors_settings:\n",
    "#     # build the model\n",
    "#     knn = KNeighborsClassifier(n_neighbors=n_neighbors)\n",
    "#     knn.fit(X_train, Y_train_res)\n",
    "#     # record training set accuracy\n",
    "#     training_accuracy.append(knn.score(X_train, Y_train_res))\n",
    "#     # record test set accuracy\n",
    "#     test_accuracy.append(knn.score(X_test, Y_test))\n",
    "    \n",
    "# plt.plot(neighbors_settings, training_accuracy, label=\"training accuracy\")\n",
    "# plt.plot(neighbors_settings, test_accuracy, label=\"test accuracy\")\n",
    "# plt.ylabel(\"Accuracy\")\n",
    "# plt.xlabel(\"n_neighbors\")\n",
    "# plt.legend()\n",
    "# plt.savefig('knn_compare_model')"
   ]
  },
  {
   "cell_type": "code",
   "execution_count": 65,
   "id": "e375cbfb",
   "metadata": {},
   "outputs": [],
   "source": [
    "# knn = KNeighborsClassifier(n_neighbors=4)\n",
    "# knn.fit(X_train, Y_train_res)\n",
    "# # print('Accuracy of K-NN classifier on training set: {:.2f}'.format(knn.score(X_train, Y_train)))\n",
    "# y_pred = knn.predict(X_test)\n",
    "\n",
    "# ConfusionMatrix = confusion_matrix(Y_test, y_pred)\n",
    "# plt.figure(figsize=(5,3))\n",
    "# sns.heatmap(ConfusionMatrix, annot=True,cmap=\"YlGnBu\",fmt='g')\n",
    "# plt.show()"
   ]
  },
  {
   "cell_type": "code",
   "execution_count": 66,
   "id": "d2357487",
   "metadata": {},
   "outputs": [],
   "source": [
    "# precision = precision_score(Y_test, y_pred)\n",
    "# recall = recall_score(Y_test, y_pred)\n",
    "# f1 = f1_score(Y_test, y_pred)\n",
    "\n",
    "# print(\"Accuracy Score:\", accuracy_score(Y_test, y_pred))\n",
    "# print(\"Precision is\", precision)\n",
    "# print(\"Recall is\", recall)\n",
    "# print(\"F1 score is\", f1)"
   ]
  },
  {
   "cell_type": "code",
   "execution_count": 67,
   "id": "874ba22f",
   "metadata": {},
   "outputs": [],
   "source": [
    "# #define metrics\n",
    "# y_pred_proba = knn.predict_proba(X_test)[::,1]\n",
    "# fpr, tpr, _ = metrics.roc_curve(Y_test,  y_pred_proba)\n",
    "# auc = metrics.roc_auc_score(Y_test, y_pred_proba)\n",
    "# model_acc.append(auc)\n",
    "\n",
    "# #create ROC curve\n",
    "# plt.plot(fpr,tpr,label=\"AUC=\"+str(auc))\n",
    "# plt.ylabel('True Positive Rate')\n",
    "# plt.xlabel('False Positive Rate')\n",
    "# plt.legend(loc=4)\n",
    "# plt.show()"
   ]
  },
  {
   "cell_type": "code",
   "execution_count": 68,
   "id": "c9b68c09",
   "metadata": {},
   "outputs": [],
   "source": [
    "# skf = StratifiedKFold(n_splits=10, random_state=None) \n",
    "# # skf.get_n_split(X,Y)\n",
    "# lst_accu_stratified = []\n",
    "\n",
    "# for train_index, test_index in skf.split(X, Y): \n",
    "#     X_train_fold, X_test_fold = X.iloc[train_index], X.iloc[test_index] \n",
    "#     y_train_fold, y_test_fold = Y.iloc[train_index], Y.iloc[test_index] \n",
    "#     knn.fit(X_train_fold, y_train_fold) \n",
    "#     lst_accu_stratified.append(knn.score(X_test_fold, y_test_fold))\n",
    "\n",
    "# print('Overall Accuracy:',mean(lst_accu_stratified))\n",
    "# model_skf.append(mean(lst_accu_stratified))\n",
    "\n",
    "# # k_folds = KFold(n_splits = 10)\n",
    "\n",
    "# # scores = cross_val_score(lr, X, Y, cv = k_folds)\n",
    "\n",
    "# # print(\"Average CV Score: \", scores.mean())"
   ]
  },
  {
   "cell_type": "markdown",
   "id": "ab4013fa",
   "metadata": {},
   "source": [
    "## Gradient Boosting"
   ]
  },
  {
   "cell_type": "code",
   "execution_count": 69,
   "id": "853ee979",
   "metadata": {},
   "outputs": [
    {
     "name": "stdout",
     "output_type": "stream",
     "text": [
      "{'learning_rate': [0.1, 0.05, 0.02, 0.01], 'max_depth': [4, 6, 8], 'min_samples_leaf': [20, 50, 100, 150]}\n",
      "Fitting 2 folds for each of 48 candidates, totalling 96 fits\n",
      "{'learning_rate': 0.02, 'max_depth': 8, 'min_samples_leaf': 20}\n"
     ]
    }
   ],
   "source": [
    "from sklearn.ensemble import GradientBoostingClassifier\n",
    "from sklearn.model_selection import GridSearchCV\n",
    "\n",
    "gb_grid_params = {'learning_rate': [0.1, 0.05, 0.02, 0.01],\n",
    "              'max_depth': [4, 6, 8],\n",
    "              'min_samples_leaf': [20, 50,100,150],\n",
    "              #'max_features': [1.0, 0.3, 0.1] \n",
    "              }\n",
    "print(gb_grid_params)\n",
    "\n",
    "gb_gs = GradientBoostingClassifier(n_estimators = 600)\n",
    "\n",
    "clf = GridSearchCV(gb_gs,gb_grid_params,\n",
    "                               cv=2,\n",
    "                               scoring='roc_auc',\n",
    "                               verbose = 3, \n",
    "                               n_jobs=10)\n",
    "\n",
    "clf.fit(X_train, Y_train_res)\n",
    "\n",
    "print(clf.best_params_)"
   ]
  },
  {
   "cell_type": "code",
   "execution_count": 70,
   "id": "c7b5ff90",
   "metadata": {},
   "outputs": [
    {
     "name": "stdout",
     "output_type": "stream",
     "text": [
      "Accuracy on training set: 0.951\n",
      "Accuracy on test set: 0.695\n"
     ]
    }
   ],
   "source": [
    "from sklearn.ensemble import GradientBoostingClassifier\n",
    "gb = GradientBoostingClassifier(random_state=0)\n",
    "gb.fit(X_train, Y_train_res)\n",
    "\n",
    "print(\"Accuracy on training set: {:.3f}\".format(gb.score(X_train, Y_train_res)))\n",
    "print(\"Accuracy on test set: {:.3f}\".format(gb.score(X_test, Y_test)))"
   ]
  },
  {
   "cell_type": "markdown",
   "id": "5ec48ffc",
   "metadata": {},
   "source": [
    "##### We are likely to be overfitting. To reduce overfitting, we could either apply stronger pre-pruning by limiting the maximum depth or lower the learning rate\n"
   ]
  },
  {
   "cell_type": "code",
   "execution_count": 71,
   "id": "66748032",
   "metadata": {},
   "outputs": [
    {
     "name": "stdout",
     "output_type": "stream",
     "text": [
      "Accuracy on training set: 0.838\n",
      "Accuracy on test set: 0.674\n"
     ]
    }
   ],
   "source": [
    "gb1 = GradientBoostingClassifier(random_state=0, max_depth=1)\n",
    "gb1.fit(X_train, Y_train_res)\n",
    "print(\"Accuracy on training set: {:.3f}\".format(gb1.score(X_train, Y_train_res)))\n",
    "print(\"Accuracy on test set: {:.3f}\".format(gb1.score(X_test, Y_test)))"
   ]
  },
  {
   "cell_type": "code",
   "execution_count": 72,
   "id": "50c2a603",
   "metadata": {},
   "outputs": [
    {
     "name": "stdout",
     "output_type": "stream",
     "text": [
      "Accuracy on training set: 0.912\n",
      "Accuracy on test set: 0.716\n"
     ]
    }
   ],
   "source": [
    "gb2 = GradientBoostingClassifier(learning_rate=0.02, max_depth= 8, min_samples_leaf= 20)\n",
    "gb2.fit(X_train, Y_train_res)\n",
    "\n",
    "print(\"Accuracy on training set: {:.3f}\".format(gb2.score(X_train, Y_train_res)))\n",
    "print(\"Accuracy on test set: {:.3f}\".format(gb2.score(X_test, Y_test)))"
   ]
  },
  {
   "cell_type": "code",
   "execution_count": 73,
   "id": "266ad010",
   "metadata": {},
   "outputs": [
    {
     "name": "stdout",
     "output_type": "stream",
     "text": [
      "Precision is 0.4230769230769231\n",
      "Recall is 0.9565217391304348\n"
     ]
    }
   ],
   "source": [
    "y_pred = gb1.predict(X_test)\n",
    "precision = precision_score(Y_test, y_pred)\n",
    "recall = recall_score(Y_test, y_pred)\n",
    "#f1 = f1_score(Y_test, y_pred)\n",
    "\n",
    "\n",
    "print(\"Precision is\", precision)\n",
    "print(\"Recall is\", recall)\n",
    "#print(\"F1 score is\", f1)"
   ]
  },
  {
   "cell_type": "code",
   "execution_count": 74,
   "id": "ee7e5683",
   "metadata": {},
   "outputs": [
    {
     "data": {
      "text/plain": [
       "<AxesSubplot:title={'center':'Feature Importance'}>"
      ]
     },
     "execution_count": 74,
     "metadata": {},
     "output_type": "execute_result"
    },
    {
     "data": {
      "image/png": "[encoded data removed]",
      "text/plain": [
       "<Figure size 432x288 with 1 Axes>"
      ]
     },
     "metadata": {
      "needs_background": "light"
     },
     "output_type": "display_data"
    }
   ],
   "source": [
    "feat_importances = pd.Series(gb1.feature_importances_, index=features)\n",
    "feat_importances.nlargest(20).plot(kind='barh',title = 'Feature Importance')"
   ]
  },
  {
   "cell_type": "code",
   "execution_count": 75,
   "id": "069778cc",
   "metadata": {},
   "outputs": [
    {
     "data": {
      "image/png": "[encoded data removed]",
      "text/plain": [
       "<Figure size 432x288 with 1 Axes>"
      ]
     },
     "metadata": {
      "needs_background": "light"
     },
     "output_type": "display_data"
    }
   ],
   "source": [
    "#define metrics\n",
    "y_pred_proba = gb1.predict_proba(X_test)[::,1]\n",
    "fpr, tpr, _ = metrics.roc_curve(Y_test,  y_pred_proba)\n",
    "auc = metrics.roc_auc_score(Y_test, y_pred_proba)\n",
    "model_acc.append(auc)\n",
    "\n",
    "#create ROC curve\n",
    "plt.plot(fpr,tpr,label=\"AUC=\"+str(auc))\n",
    "plt.ylabel('True Positive Rate')\n",
    "plt.xlabel('False Positive Rate')\n",
    "plt.legend(loc=4)\n",
    "plt.show()"
   ]
  },
  {
   "cell_type": "code",
   "execution_count": 76,
   "id": "315e1568",
   "metadata": {},
   "outputs": [
    {
     "name": "stdout",
     "output_type": "stream",
     "text": [
      "Overall Accuracy: 0.7978947368421053\n"
     ]
    }
   ],
   "source": [
    "skf = StratifiedKFold(n_splits=5, random_state=None) \n",
    "# skf.get_n_split(X,Y)\n",
    "lst_accu_stratified = []\n",
    "\n",
    "for train_index, test_index in skf.split(X, Y): \n",
    "    X_train_fold, X_test_fold = X.iloc[train_index], X.iloc[test_index] \n",
    "    y_train_fold, y_test_fold = Y.iloc[train_index], Y.iloc[test_index] \n",
    "    gb1.fit(X_train_fold, y_train_fold) \n",
    "    lst_accu_stratified.append(gb1.score(X_test_fold, y_test_fold))\n",
    "\n",
    "print('Overall Accuracy:',mean(lst_accu_stratified))\n",
    "model_skf.append(mean(lst_accu_stratified))\n",
    "\n",
    "# k_folds = KFold(n_splits = 10)\n",
    "\n",
    "# scores = cross_val_score(lr, X, Y, cv = k_folds)\n",
    "\n",
    "# print(\"Average CV Score: \", scores.mean())"
   ]
  },
  {
   "cell_type": "code",
   "execution_count": 77,
   "id": "a498f5dc",
   "metadata": {},
   "outputs": [
    {
     "name": "stdout",
     "output_type": "stream",
     "text": [
      "0.041\n",
      "0.555\n",
      "0.028\n",
      "0.023\n",
      "0.007\n",
      "0.194\n",
      "0.048\n",
      "0.103\n"
     ]
    },
    {
     "data": {
      "text/html": [
       "<div>\n",
       "<style scoped>\n",
       "    .dataframe tbody tr th:only-of-type {\n",
       "        vertical-align: middle;\n",
       "    }\n",
       "\n",
       "    .dataframe tbody tr th {\n",
       "        vertical-align: top;\n",
       "    }\n",
       "\n",
       "    .dataframe thead th {\n",
       "        text-align: right;\n",
       "    }\n",
       "</style>\n",
       "<table border=\"1\" class=\"dataframe\">\n",
       "  <thead>\n",
       "    <tr style=\"text-align: right;\">\n",
       "      <th></th>\n",
       "      <th>features</th>\n",
       "      <th>weights</th>\n",
       "    </tr>\n",
       "  </thead>\n",
       "  <tbody>\n",
       "    <tr>\n",
       "      <th>1</th>\n",
       "      <td>Glucose</td>\n",
       "      <td>0.555348</td>\n",
       "    </tr>\n",
       "    <tr>\n",
       "      <th>5</th>\n",
       "      <td>BMI</td>\n",
       "      <td>0.194326</td>\n",
       "    </tr>\n",
       "    <tr>\n",
       "      <th>7</th>\n",
       "      <td>Age</td>\n",
       "      <td>0.102854</td>\n",
       "    </tr>\n",
       "    <tr>\n",
       "      <th>6</th>\n",
       "      <td>DiabetesPedigreeFunction</td>\n",
       "      <td>0.048050</td>\n",
       "    </tr>\n",
       "    <tr>\n",
       "      <th>0</th>\n",
       "      <td>Pregnancies</td>\n",
       "      <td>0.041113</td>\n",
       "    </tr>\n",
       "    <tr>\n",
       "      <th>2</th>\n",
       "      <td>BloodPressure</td>\n",
       "      <td>0.027985</td>\n",
       "    </tr>\n",
       "    <tr>\n",
       "      <th>3</th>\n",
       "      <td>SkinThickness</td>\n",
       "      <td>0.022988</td>\n",
       "    </tr>\n",
       "    <tr>\n",
       "      <th>4</th>\n",
       "      <td>Insulin</td>\n",
       "      <td>0.007337</td>\n",
       "    </tr>\n",
       "  </tbody>\n",
       "</table>\n",
       "</div>"
      ],
      "text/plain": [
       "                   features   weights\n",
       "1                   Glucose  0.555348\n",
       "5                       BMI  0.194326\n",
       "7                       Age  0.102854\n",
       "6  DiabetesPedigreeFunction  0.048050\n",
       "0               Pregnancies  0.041113\n",
       "2             BloodPressure  0.027985\n",
       "3             SkinThickness  0.022988\n",
       "4                   Insulin  0.007337"
      ]
     },
     "execution_count": 77,
     "metadata": {},
     "output_type": "execute_result"
    }
   ],
   "source": [
    "imp_features = gb1.feature_importances_\n",
    "for i in imp_features:\n",
    "    print(i.round(3))\n",
    "df_imp_features = pd.DataFrame({\"features\":features}).join(pd.DataFrame({\"weights\":imp_features}))\n",
    "df_imp_features.sort_values(by=['weights'], ascending=False)"
   ]
  },
  {
   "cell_type": "markdown",
   "id": "187ac7d0",
   "metadata": {},
   "source": [
    "## EXtreme Gradient Boosting"
   ]
  },
  {
   "cell_type": "code",
   "execution_count": 78,
   "id": "9ed4fbf0",
   "metadata": {},
   "outputs": [],
   "source": [
    "# from xgboost import XGBClassifier\n",
    "\n",
    "# # declare parameters\n",
    "# params = {\n",
    "#             'objective':'binary:logistic',\n",
    "#             'max_depth': 6,\n",
    "#             'alpha': 10,\n",
    "#             'learning_rate': 1,\n",
    "#             'n_estimators':100\n",
    "#         }\n",
    "                        \n",
    "# # instantiate the classifier \n",
    "# xgb_clf = XGBClassifier(**params)\n",
    "\n",
    "# # fit the classifier to the training data\n",
    "# xgb_clf.fit(X_train, Y_train_res)\n",
    "\n",
    "# # make predictions on test data\n",
    "# y_pred = xgb_clf.predict(X_test)\n",
    "\n",
    "# precision = precision_score(Y_test, y_pred)\n",
    "# recall = recall_score(Y_test, y_pred)\n",
    "# f1 = f1_score(Y_test, y_pred)\n",
    "\n",
    "# print('XGBoost model accuracy score: {0:0.4f}'. format(accuracy_score(Y_test, y_pred)))\n",
    "# print(\"Precision is\", precision)\n",
    "# print(\"Recall is\", recall)\n",
    "# print(\"F1 score is\", f1)"
   ]
  },
  {
   "cell_type": "code",
   "execution_count": 79,
   "id": "1656995c",
   "metadata": {
    "scrolled": true
   },
   "outputs": [],
   "source": [
    "# from sklearn.metrics import roc_curve,roc_auc_score\n",
    "\n",
    "# t_fpr, t_tpr, _ = roc_curve(Y_test,y_pred)\n",
    "# t_auc = roc_auc_score(Y_test,y_pred)\n",
    "# model_acc.append(t_auc)\n",
    "# plt.plot(t_fpr,t_tpr,label=\"data, auc=\"+str(t_auc))\n",
    "# plt.legend(loc=4)\n",
    "# plt.show()"
   ]
  },
  {
   "cell_type": "code",
   "execution_count": 80,
   "id": "2abe3c60",
   "metadata": {},
   "outputs": [],
   "source": [
    "# skf = StratifiedKFold(n_splits=5, random_state=None) \n",
    "# # skf.get_n_split(X,Y)\n",
    "# lst_accu_stratified = []\n",
    "\n",
    "# for train_index, test_index in skf.split(X, Y): \n",
    "#     X_train_fold, X_test_fold = X.iloc[train_index], X.iloc[test_index] \n",
    "#     y_train_fold, y_test_fold = Y.iloc[train_index], Y.iloc[test_index] \n",
    "#     xgb_clf.fit(X_train_fold, y_train_fold) \n",
    "#     lst_accu_stratified.append(xgb_clf.score(X_test_fold, y_test_fold))\n",
    "\n",
    "# print('Overall Accuracy:',mean(lst_accu_stratified))\n",
    "# model_skf.append(mean(lst_accu_stratified))\n",
    "\n",
    "# # k_folds = KFold(n_splits = 10)\n",
    "\n",
    "# # scores = cross_val_score(lr, X, Y, cv = k_folds)\n",
    "\n",
    "# # print(\"Average CV Score: \", scores.mean())"
   ]
  },
  {
   "cell_type": "markdown",
   "id": "9447fd23",
   "metadata": {},
   "source": [
    "## Naive Bayes"
   ]
  },
  {
   "cell_type": "code",
   "execution_count": 81,
   "id": "7ad0ae5f",
   "metadata": {},
   "outputs": [],
   "source": [
    "# from sklearn.model_selection import RepeatedStratifiedKFold\n",
    "\n",
    "# cv_method = RepeatedStratifiedKFold(n_splits=5, \n",
    "#                                     n_repeats=3, \n",
    "#                                     random_state=999)\n",
    "# from sklearn.preprocessing import PowerTransformer\n",
    "# params_NB = {'var_smoothing': np.logspace(0,-9, num=100)}\n",
    "\n",
    "# gs_NB = GridSearchCV(estimator=model, \n",
    "#                      param_grid=params_NB, \n",
    "#                      cv=cv_method,\n",
    "#                      verbose=1, \n",
    "#                      scoring='accuracy')\n"
   ]
  },
  {
   "cell_type": "code",
   "execution_count": 82,
   "id": "9f41d23d",
   "metadata": {},
   "outputs": [
    {
     "name": "stdout",
     "output_type": "stream",
     "text": [
      "Accuracy on training set: 0.764\n",
      "Accuracy on test set: 0.684\n"
     ]
    }
   ],
   "source": [
    "from sklearn.naive_bayes import GaussianNB\n",
    "\n",
    "nvb = GaussianNB() # create a classifier\n",
    "nvb.fit(X_train,Y_train_res) # fitting the data\n",
    "\n",
    "print(\"Accuracy on training set: {:.3f}\".format(nvb.score(X_train, Y_train_res)))\n",
    "print(\"Accuracy on test set: {:.3f}\".format(nvb.score(X_test, Y_test)))         "
   ]
  },
  {
   "cell_type": "code",
   "execution_count": 83,
   "id": "145a1696",
   "metadata": {},
   "outputs": [
    {
     "name": "stdout",
     "output_type": "stream",
     "text": [
      "Precision is 0.42857142857142855\n",
      "Recall is 0.9130434782608695\n",
      "F1 score is 0.5833333333333334\n"
     ]
    }
   ],
   "source": [
    "y_pred = nvb.predict(X_test)\n",
    "precision = precision_score(Y_test, y_pred)\n",
    "recall = recall_score(Y_test, y_pred)\n",
    "f1 = f1_score(Y_test, y_pred)\n",
    "\n",
    "\n",
    "print(\"Precision is\", precision)\n",
    "print(\"Recall is\", recall)\n",
    "print(\"F1 score is\", f1)"
   ]
  },
  {
   "cell_type": "code",
   "execution_count": 84,
   "id": "6e026b72",
   "metadata": {},
   "outputs": [
    {
     "data": {
      "image/png": "[encoded data removed]",
      "text/plain": [
       "<Figure size 432x288 with 1 Axes>"
      ]
     },
     "metadata": {
      "needs_background": "light"
     },
     "output_type": "display_data"
    }
   ],
   "source": [
    "#define metrics\n",
    "y_pred_proba = nvb.predict_proba(X_test)[::,1]\n",
    "fpr, tpr, _ = metrics.roc_curve(Y_test,  y_pred_proba)\n",
    "auc = metrics.roc_auc_score(Y_test, y_pred_proba)\n",
    "model_acc.append(auc)\n",
    "\n",
    "#create ROC curve\n",
    "plt.plot(fpr,tpr,label=\"AUC=\"+str(auc))\n",
    "plt.ylabel('True Positive Rate')\n",
    "plt.xlabel('False Positive Rate')\n",
    "plt.legend(loc=4)\n",
    "plt.show()"
   ]
  },
  {
   "cell_type": "code",
   "execution_count": 85,
   "id": "3c2b29a1",
   "metadata": {},
   "outputs": [
    {
     "name": "stdout",
     "output_type": "stream",
     "text": [
      "Overall Accuracy: 0.7768421052631579\n"
     ]
    }
   ],
   "source": [
    "skf = StratifiedKFold(n_splits=5, random_state=None) \n",
    "# skf.get_n_split(X,Y)\n",
    "lst_accu_stratified = []\n",
    "\n",
    "for train_index, test_index in skf.split(X, Y): \n",
    "    X_train_fold, X_test_fold = X.iloc[train_index], X.iloc[test_index] \n",
    "    y_train_fold, y_test_fold = Y.iloc[train_index], Y.iloc[test_index] \n",
    "    nvb.fit(X_train_fold, y_train_fold) \n",
    "    lst_accu_stratified.append(nvb.score(X_test_fold, y_test_fold))\n",
    "\n",
    "print('Overall Accuracy:',mean(lst_accu_stratified))\n",
    "model_skf.append(mean(lst_accu_stratified))\n",
    "\n",
    "# k_folds = KFold(n_splits = 10)\n",
    "\n",
    "# scores = cross_val_score(lr, X, Y, cv = k_folds)\n",
    "\n",
    "# print(\"Average CV Score: \", scores.mean())"
   ]
  },
  {
   "cell_type": "code",
   "execution_count": 86,
   "id": "36831a7a",
   "metadata": {},
   "outputs": [],
   "source": [
    "# model_acc = []\n",
    "# models = [lr, model, dtree, rf, knn, gb, xgb_clf, nvb]\n",
    "# for i in models:\n",
    "#     i.fit(X_train,Y_train)\n",
    "#     y_pred_proba = i.predict_proba(X_test)[::,1]\n",
    "#     fpr, tpr, _ = metrics.roc_curve(Y_test,  y_pred_proba)\n",
    "#     auc = metrics.roc_auc_score(Y_test, y_pred_proba)\n",
    "#     model_acc.append(auc)\n",
    "\n",
    "models = [lr, SVM, dtree, rf, gb, nvb]                      \n",
    "models = pd.DataFrame({'Models':models,'AUC':model_acc})"
   ]
  },
  {
   "cell_type": "code",
   "execution_count": 87,
   "id": "5787fb0b",
   "metadata": {},
   "outputs": [
    {
     "data": {
      "text/html": [
       "<div>\n",
       "<style scoped>\n",
       "    .dataframe tbody tr th:only-of-type {\n",
       "        vertical-align: middle;\n",
       "    }\n",
       "\n",
       "    .dataframe tbody tr th {\n",
       "        vertical-align: top;\n",
       "    }\n",
       "\n",
       "    .dataframe thead th {\n",
       "        text-align: right;\n",
       "    }\n",
       "</style>\n",
       "<table border=\"1\" class=\"dataframe\">\n",
       "  <thead>\n",
       "    <tr style=\"text-align: right;\">\n",
       "      <th></th>\n",
       "      <th>Models</th>\n",
       "      <th>AUC</th>\n",
       "    </tr>\n",
       "  </thead>\n",
       "  <tbody>\n",
       "    <tr>\n",
       "      <th>0</th>\n",
       "      <td>LogisticRegression</td>\n",
       "      <td>0.871981</td>\n",
       "    </tr>\n",
       "    <tr>\n",
       "      <th>1</th>\n",
       "      <td>GradientBoostingClassifier</td>\n",
       "      <td>0.865338</td>\n",
       "    </tr>\n",
       "    <tr>\n",
       "      <th>2</th>\n",
       "      <td>GaussianNB</td>\n",
       "      <td>0.834541</td>\n",
       "    </tr>\n",
       "    <tr>\n",
       "      <th>3</th>\n",
       "      <td>SVC</td>\n",
       "      <td>0.810990</td>\n",
       "    </tr>\n",
       "    <tr>\n",
       "      <th>4</th>\n",
       "      <td>RandomForestClassifier</td>\n",
       "      <td>0.806461</td>\n",
       "    </tr>\n",
       "    <tr>\n",
       "      <th>5</th>\n",
       "      <td>DecisionTreeClassifier</td>\n",
       "      <td>0.773551</td>\n",
       "    </tr>\n",
       "  </tbody>\n",
       "</table>\n",
       "</div>"
      ],
      "text/plain": [
       "                       Models       AUC\n",
       "0          LogisticRegression  0.871981\n",
       "1  GradientBoostingClassifier  0.865338\n",
       "2                  GaussianNB  0.834541\n",
       "3                         SVC  0.810990\n",
       "4      RandomForestClassifier  0.806461\n",
       "5      DecisionTreeClassifier  0.773551"
      ]
     },
     "execution_count": 87,
     "metadata": {},
     "output_type": "execute_result"
    }
   ],
   "source": [
    "models = models.sort_values(by=['AUC'],ascending=False).reset_index().drop('index',axis=1)\n",
    "best = models['Models'][0]\n",
    "models['Models']=models['Models'].astype(str).str.split(\"(\", n = 2, expand = True)[0]\n",
    "models"
   ]
  },
  {
   "cell_type": "code",
   "execution_count": 88,
   "id": "227cf766",
   "metadata": {},
   "outputs": [
    {
     "name": "stdout",
     "output_type": "stream",
     "text": [
      "Hence the best model is LogisticRegression with an area under curve of 87.2 %\n"
     ]
    }
   ],
   "source": [
    "print('Hence the best model is',models['Models'][0],'with an area under curve of',round((models['AUC'][0]*100),2),'%')"
   ]
  },
  {
   "cell_type": "code",
   "execution_count": 89,
   "id": "b79d49cc",
   "metadata": {},
   "outputs": [
    {
     "data": {
      "text/html": [
       "<div>\n",
       "<style scoped>\n",
       "    .dataframe tbody tr th:only-of-type {\n",
       "        vertical-align: middle;\n",
       "    }\n",
       "\n",
       "    .dataframe tbody tr th {\n",
       "        vertical-align: top;\n",
       "    }\n",
       "\n",
       "    .dataframe thead th {\n",
       "        text-align: right;\n",
       "    }\n",
       "</style>\n",
       "<table border=\"1\" class=\"dataframe\">\n",
       "  <thead>\n",
       "    <tr style=\"text-align: right;\">\n",
       "      <th></th>\n",
       "      <th>Models</th>\n",
       "      <th>Stratified_K_Fold</th>\n",
       "    </tr>\n",
       "  </thead>\n",
       "  <tbody>\n",
       "    <tr>\n",
       "      <th>0</th>\n",
       "      <td>GradientBoostingClassifier</td>\n",
       "      <td>0.797895</td>\n",
       "    </tr>\n",
       "    <tr>\n",
       "      <th>1</th>\n",
       "      <td>RandomForestClassifier</td>\n",
       "      <td>0.783158</td>\n",
       "    </tr>\n",
       "    <tr>\n",
       "      <th>2</th>\n",
       "      <td>SVC</td>\n",
       "      <td>0.781053</td>\n",
       "    </tr>\n",
       "    <tr>\n",
       "      <th>3</th>\n",
       "      <td>GaussianNB</td>\n",
       "      <td>0.776842</td>\n",
       "    </tr>\n",
       "    <tr>\n",
       "      <th>4</th>\n",
       "      <td>LogisticRegression</td>\n",
       "      <td>0.772784</td>\n",
       "    </tr>\n",
       "    <tr>\n",
       "      <th>5</th>\n",
       "      <td>DecisionTreeClassifier</td>\n",
       "      <td>0.730718</td>\n",
       "    </tr>\n",
       "  </tbody>\n",
       "</table>\n",
       "</div>"
      ],
      "text/plain": [
       "                       Models  Stratified_K_Fold\n",
       "0  GradientBoostingClassifier           0.797895\n",
       "1      RandomForestClassifier           0.783158\n",
       "2                         SVC           0.781053\n",
       "3                  GaussianNB           0.776842\n",
       "4          LogisticRegression           0.772784\n",
       "5      DecisionTreeClassifier           0.730718"
      ]
     },
     "execution_count": 89,
     "metadata": {},
     "output_type": "execute_result"
    }
   ],
   "source": [
    "models = [lr, SVM, dtree, rf, gb, nvb]                      \n",
    "models1 = pd.DataFrame({'Models':models,'Stratified_K_Fold':model_skf})\n",
    "\n",
    "models1 = models1.sort_values(by=['Stratified_K_Fold'],ascending=False).reset_index().drop('index',axis=1)\n",
    "best = models1['Models'][0]\n",
    "models1['Models']=models1['Models'].astype(str).str.split(\"(\", n = 2, expand = True)[0]\n",
    "models1"
   ]
  },
  {
   "cell_type": "code",
   "execution_count": 90,
   "id": "561d0b4d",
   "metadata": {},
   "outputs": [
    {
     "name": "stdout",
     "output_type": "stream",
     "text": [
      "Hence the best model is GradientBoostingClassifier with an Stratified K-Fold of 79.79 %\n"
     ]
    }
   ],
   "source": [
    "print('Hence the best model is',models1['Models'][0],'with an Stratified K-Fold of',round((models1['Stratified_K_Fold'][0]*100),2),'%')"
   ]
  },
  {
   "cell_type": "code",
   "execution_count": null,
   "id": "ee22b032",
   "metadata": {},
   "outputs": [],
   "source": []
  }
 ],
 "metadata": {
  "kernelspec": {
   "display_name": "Python 3",
   "language": "python",
   "name": "python3"
  },
  "language_info": {
   "codemirror_mode": {
    "name": "ipython",
    "version": 3
   },
   "file_extension": ".py",
   "mimetype": "text/x-python",
   "name": "python",
   "nbconvert_exporter": "python",
   "pygments_lexer": "ipython3",
   "version": "3.8.8"
  }
 },
 "nbformat": 4,
 "nbformat_minor": 5
}
